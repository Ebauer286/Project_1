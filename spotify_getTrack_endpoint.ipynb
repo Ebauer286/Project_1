{
 "cells": [
  {
   "cell_type": "code",
   "execution_count": 1,
   "id": "703f62dc-5c66-40e6-844c-5ec517c63fa5",
   "metadata": {},
   "outputs": [],
   "source": [
    "import requests\n",
    "import json\n",
    "import pandas\n",
    "from pprint import pprint\n",
    "from time import sleep\n",
    "\n",
    "from spotify_credentials import client_id, client_secret\n"
   ]
  },
  {
   "cell_type": "code",
   "execution_count": 14,
   "id": "75426164-17e9-4917-b97f-997185ba49bd",
   "metadata": {},
   "outputs": [],
   "source": [
    "#getting spotify access token\n",
    "url = \"https://accounts.spotify.com/api/token\"\n",
    "header = {\"Content-Type\": \"application/x-www-form-urlencoded\"}\n",
    "data = {\"grant_type\":\"client_credentials\",\n",
    "        \"client_id\" : client_id,\n",
    "        \"client_secret\" : client_secret}\n",
    "\n",
    "r = requests.post(url, data=data, headers=header).json()\n",
    "\n",
    "spotify_api_key = r['access_token']\n"
   ]
  },
  {
   "cell_type": "code",
   "execution_count": 24,
   "id": "bcd89bf4-4cde-4738-a445-9dd16a531a4f",
   "metadata": {},
   "outputs": [
    {
     "name": "stdout",
     "output_type": "stream",
     "text": [
      "artist name: Cliff Richard\n",
      "track name: Dreamin'\n"
     ]
    }
   ],
   "source": [
    "spotify_tracks_endpoint = \"https://api.spotify.com/v1/tracks/\"\n",
    "spotify_headers = {'Authorization': 'Bearer {}'.format(spotify_api_key)}\n",
    "id = \"61iObLkVe5H3qhBHHbHD6x\"\n",
    "request_url = spotify_tracks_endpoint + id\n",
    "\n",
    "spotify_response = requests.get(request_url, headers = spotify_headers).json()\n",
    "\n",
    "\n",
    "print(f\"artist name: {spotify_response[\"artists\"][0][\"name\"]}\")\n",
    "print(f\"track name: {spotify_response[\"name\"]}\")\n",
    "\n",
    "\n",
    "\n"
   ]
  },
  {
   "cell_type": "code",
   "execution_count": null,
   "id": "dcc03761-63cc-4caa-b51b-8f3258b0a852",
   "metadata": {},
   "outputs": [],
   "source": [
    "7zMMs6D2XAx1kPlM2ibFc8"
   ]
  }
 ],
 "metadata": {
  "kernelspec": {
   "display_name": "Python 3 (ipykernel)",
   "language": "python",
   "name": "python3"
  },
  "language_info": {
   "codemirror_mode": {
    "name": "ipython",
    "version": 3
   },
   "file_extension": ".py",
   "mimetype": "text/x-python",
   "name": "python",
   "nbconvert_exporter": "python",
   "pygments_lexer": "ipython3",
   "version": "3.12.4"
  }
 },
 "nbformat": 4,
 "nbformat_minor": 5
}
