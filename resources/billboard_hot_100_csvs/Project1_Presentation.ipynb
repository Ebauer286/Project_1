{
 "cells": [
  {
   "cell_type": "markdown",
   "id": "05555dae-8499-4058-9d80-ea22ad65e352",
   "metadata": {},
   "source": [
    "# Project 1: Analyzing Trends in Popular Music from 1980 to Present Day"
   ]
  },
  {
   "cell_type": "markdown",
   "id": "6231c253-9a41-49af-a23b-737589dfcca1",
   "metadata": {},
   "source": [
    "## Danceability"
   ]
  },
  {
   "cell_type": "code",
   "execution_count": null,
   "id": "05841133-59f4-4ce0-b6ed-28ed7549f1fd",
   "metadata": {},
   "outputs": [],
   "source": []
  },
  {
   "cell_type": "markdown",
   "id": "852c2123-f1b6-4573-9628-dd66f9646596",
   "metadata": {},
   "source": [
    "#### tempo"
   ]
  },
  {
   "cell_type": "code",
   "execution_count": null,
   "id": "444c9e24-5ad4-48b4-9d13-c8e664f16a5e",
   "metadata": {},
   "outputs": [],
   "source": []
  },
  {
   "cell_type": "markdown",
   "id": "751933f4-6f9a-45cd-8ae9-3f1e0c4d6f6b",
   "metadata": {},
   "source": [
    "## Energy"
   ]
  },
  {
   "cell_type": "code",
   "execution_count": null,
   "id": "4860c7f8-df88-4b93-8d88-c9a63f1be442",
   "metadata": {},
   "outputs": [],
   "source": []
  },
  {
   "cell_type": "markdown",
   "id": "5ca90130-6794-4ea0-8485-d8a9f3aa9757",
   "metadata": {},
   "source": [
    "#### tempo"
   ]
  },
  {
   "cell_type": "code",
   "execution_count": null,
   "id": "bae78ae5-c415-498b-a831-9760d9e180df",
   "metadata": {},
   "outputs": [],
   "source": []
  },
  {
   "cell_type": "markdown",
   "id": "213bcae0-0464-4c78-b705-e9aadad7df85",
   "metadata": {},
   "source": [
    "#### loudness"
   ]
  },
  {
   "cell_type": "code",
   "execution_count": null,
   "id": "ce64d130-9ae3-4381-912b-997c76ad5c56",
   "metadata": {},
   "outputs": [],
   "source": []
  },
  {
   "cell_type": "markdown",
   "id": "2a5d3be3-411a-40a8-ba38-5a2b21419574",
   "metadata": {},
   "source": [
    "## Valence"
   ]
  },
  {
   "cell_type": "code",
   "execution_count": null,
   "id": "72967cbf-5ae1-48c7-8677-7e77b5e1a2a8",
   "metadata": {},
   "outputs": [],
   "source": []
  },
  {
   "cell_type": "markdown",
   "id": "8200ff8c-37fa-41e9-a8c3-42e4aa77665c",
   "metadata": {},
   "source": [
    "## Duration"
   ]
  },
  {
   "cell_type": "code",
   "execution_count": null,
   "id": "8c04202e-a5eb-44b8-8037-87561146860f",
   "metadata": {},
   "outputs": [],
   "source": []
  },
  {
   "cell_type": "markdown",
   "id": "6309dfc4-27e8-4139-9fc8-359f79aab4c0",
   "metadata": {},
   "source": [
    "## key"
   ]
  },
  {
   "cell_type": "code",
   "execution_count": null,
   "id": "e6c84dbd-d7c9-4c6d-87f9-66035fb74f98",
   "metadata": {},
   "outputs": [],
   "source": []
  },
  {
   "cell_type": "markdown",
   "id": "6fbfd40a-16cb-4b19-b5c4-3ce252414361",
   "metadata": {},
   "source": [
    "## Time Signature"
   ]
  },
  {
   "cell_type": "code",
   "execution_count": null,
   "id": "96ec384d-3fee-47aa-82fe-ec7469bbcecc",
   "metadata": {},
   "outputs": [],
   "source": []
  },
  {
   "cell_type": "markdown",
   "id": "375293c1-ad9b-40bb-8467-7241914afcc7",
   "metadata": {},
   "source": [
    "## time signature"
   ]
  },
  {
   "cell_type": "code",
   "execution_count": null,
   "id": "b55f66a3-f3b9-4968-89c8-eb2cca0efd5e",
   "metadata": {},
   "outputs": [],
   "source": []
  },
  {
   "cell_type": "markdown",
   "id": "231e416c-a178-4e20-a774-2f912d21c574",
   "metadata": {},
   "source": [
    "## Explicitness"
   ]
  },
  {
   "cell_type": "code",
   "execution_count": null,
   "id": "e2b05308-ed94-474e-946e-a73b1de00edb",
   "metadata": {},
   "outputs": [],
   "source": []
  }
 ],
 "metadata": {
  "kernelspec": {
   "display_name": "Python 3 (ipykernel)",
   "language": "python",
   "name": "python3"
  },
  "language_info": {
   "codemirror_mode": {
    "name": "ipython",
    "version": 3
   },
   "file_extension": ".py",
   "mimetype": "text/x-python",
   "name": "python",
   "nbconvert_exporter": "python",
   "pygments_lexer": "ipython3",
   "version": "3.12.4"
  }
 },
 "nbformat": 4,
 "nbformat_minor": 5
}
