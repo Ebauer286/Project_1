{
 "cells": [
  {
   "cell_type": "code",
   "execution_count": null,
   "id": "339d78aa-1845-4ae9-8c03-2601bc682f78",
   "metadata": {},
   "outputs": [],
   "source": [
    "# importing all needed libraries and api keys\n",
    "import requests\n",
    "import json\n",
    "import re\n",
    "import pandas as pd\n",
    "import itertools\n",
    "\n",
    "from spotify_token_request import r\n",
    "\n",
    "r"
   ]
  },
  {
   "cell_type": "code",
   "execution_count": null,
   "id": "b41232b2-9b1c-4812-b67d-3bf7eb5b4074",
   "metadata": {},
   "outputs": [],
   "source": [
    "# spotify information and headers for future api use\n",
    "spotify_api_key = r['access_token']\n",
    "spotify_headers = {\n",
    "    'Authorization': 'Bearer {}'.format(spotify_api_key)\n",
    "}"
   ]
  },
  {
   "cell_type": "code",
   "execution_count": null,
   "id": "0386db5c-7bf5-43d1-be29-48db79b7f12f",
   "metadata": {},
   "outputs": [],
   "source": [
    "# reading csv and converting into a dictionary\n",
    "csv_df = pd.read_csv('all_top100songs_by_year_final.csv')\n",
    "\n",
    "data_dictionary = {}\n",
    "\n",
    "for x in range(0, 4500):\n",
    "    data_dictionary[x] = {}\n",
    "    data_dictionary[x]['title'] = csv_df['title'][x]\n",
    "    data_dictionary[x]['artist'] = csv_df['artist'][x]\n",
    "    data_dictionary[x]['id'] = csv_df['id'][x]\n",
    "\n",
    "data_dictionary"
   ]
  },
  {
   "cell_type": "code",
   "execution_count": null,
   "id": "3f32b873-1693-44ea-b47f-7bb1822acf03",
   "metadata": {},
   "outputs": [],
   "source": [
    "audio_analysis = {}\n",
    "audio_analysis_df = pd.DataFrame()\n",
    "\n",
    "def audio_analyze(start, end):\n",
    "\n",
    "    global audio_analysis, audio_analysis_df, data_dictionary\n",
    "    \n",
    "    for x in itertools.islice(data_dictionary.keys(), start, end):\n",
    "        song = data_dictionary[x]\n",
    "        id = song['id']\n",
    "        \n",
    "        try:\n",
    "            audio_analysis_url = f\"https://api.spotify.com/v1/audio-analysis/{id}\"\n",
    "            \n",
    "            audio_analysis_response = requests.get(audio_analysis_url, headers = spotify_headers).json()\n",
    "            \n",
    "            audio_analysis[\"index\"] = x\n",
    "            audio_analysis[\"title\"] = song['title']\n",
    "            \n",
    "            audio_analysis[\"duration\"] = audio_analysis_response[\"track\"][\"duration\"]\n",
    "            audio_analysis[\"loudness\"] = audio_analysis_response[\"track\"][\"loudness\"]\n",
    "            audio_analysis[\"tempo\"] = audio_analysis_response[\"track\"][\"tempo\"]\n",
    "            audio_analysis[\"time_signature\"] = audio_analysis_response[\"track\"][\"time_signature\"]\n",
    "            audio_analysis[\"key\"] = audio_analysis_response[\"track\"][\"key\"]\n",
    "    \n",
    "            song_df = pd.DataFrame(audio_analysis, index = [int(x)])\n",
    "            audio_analysis_df = pd.concat([audio_analysis_df, song_df])\n",
    "    \n",
    "        except Exception as e:\n",
    "            print(f\"{song['title']} was not analyzed\")\n",
    "            print(f\"{e}, {type(e)}\")\n"
   ]
  },
  {
   "cell_type": "code",
   "execution_count": null,
   "id": "bcda6c71-ad82-407e-93c1-104d236c120a",
   "metadata": {},
   "outputs": [],
   "source": [
    "# running the spotify song ids through their audio analysis to find data\n",
    "audio_features_dict = {}\n",
    "audio_features_df = pd.DataFrame()\n",
    "\n",
    "def audio_features(start, end):\n",
    "\n",
    "    global audio_features_dict, audio_features_df, data_dictionary\n",
    "\n",
    "    for x in itertools.islice(data_dictionary.keys(), start, end):\n",
    "        song = data_dictionary[x]\n",
    "        id = song['id']\n",
    "        \n",
    "        try:\n",
    "            audio_features_url = f\"https://api.spotify.com/v1/audio-features/{id}\"\n",
    "            \n",
    "            audio_features_response = requests.get(audio_features_url, headers = spotify_headers).json()\n",
    "\n",
    "            audio_features_dict[\"index\"] = x\n",
    "            audio_features_dict[\"title\"] = song['title']\n",
    "            \n",
    "            audio_features_dict[\"danceability\"] = audio_features_response[\"danceability\"]\n",
    "            audio_features_dict[\"energy\"] = audio_features_response[\"energy\"]\n",
    "            audio_features_dict[\"valence\"] = audio_features_response[\"valence\"]\n",
    "    \n",
    "            song_df = pd.DataFrame(audio_features_dict, index = [int(x)])\n",
    "            audio_features_df = pd.concat([audio_features_df, song_df])\n",
    "    \n",
    "        except Exception as e:\n",
    "            print(f\"{song['title']} was not analyzed\")\n",
    "            print(f\"{e}, {type(e)}\")\n"
   ]
  },
  {
   "cell_type": "code",
   "execution_count": null,
   "id": "a21d853b-0890-4cf1-80af-fc27dc9a3a57",
   "metadata": {},
   "outputs": [],
   "source": [
    "audio_analyze(0, 1000)"
   ]
  },
  {
   "cell_type": "code",
   "execution_count": null,
   "id": "e0a38a04-77d2-42cd-9245-d462b1007d24",
   "metadata": {},
   "outputs": [],
   "source": [
    "audio_analyze(1000, 2000)"
   ]
  },
  {
   "cell_type": "code",
   "execution_count": null,
   "id": "660aaf66-30bc-4c5b-b2a4-40397058b481",
   "metadata": {},
   "outputs": [],
   "source": [
    "audio_analyze(2000, 3000)"
   ]
  },
  {
   "cell_type": "code",
   "execution_count": null,
   "id": "19af6ae1-15ce-4f69-8e02-0847d37a62b0",
   "metadata": {},
   "outputs": [],
   "source": [
    "audio_analyze(3000, 4000)"
   ]
  },
  {
   "cell_type": "code",
   "execution_count": null,
   "id": "c6c1d626-7cd2-41b3-b1b5-42610f88af39",
   "metadata": {},
   "outputs": [],
   "source": [
    "audio_analyze(4000, 4501)"
   ]
  },
  {
   "cell_type": "code",
   "execution_count": null,
   "id": "5d6000ca-17f1-4605-a286-4fb57af589a7",
   "metadata": {},
   "outputs": [],
   "source": [
    "csv_df.reset_index(inplace=True)"
   ]
  },
  {
   "cell_type": "code",
   "execution_count": null,
   "id": "e5ee0006-c9b2-4641-bc4b-54a8b909f44a",
   "metadata": {},
   "outputs": [],
   "source": [
    "master_p1_df = pd.merge(csv_df, audio_analysis_df, how = 'outer', on = 'index')\n",
    "master_p1_df = master_p1_df.drop(columns = ['title_y'])\n",
    "master_p1_df = master_p1_df.rename(columns = {\"title_x\": \"title\"})\n",
    "\n",
    "master_p1_df.to_csv('master_data_part_1.csv', index = False)"
   ]
  },
  {
   "cell_type": "code",
   "execution_count": null,
   "id": "2b816f17-3fbb-476a-b99c-c30512e61a79",
   "metadata": {},
   "outputs": [],
   "source": [
    "audio_features(0, 100)"
   ]
  },
  {
   "cell_type": "code",
   "execution_count": null,
   "id": "d3049f7e-a74c-4c57-9689-b57a40f9ef74",
   "metadata": {},
   "outputs": [],
   "source": [
    "audio_features(100, 200)"
   ]
  },
  {
   "cell_type": "code",
   "execution_count": null,
   "id": "ffa1130e-584a-401e-8c45-65d940ab1fb6",
   "metadata": {},
   "outputs": [],
   "source": [
    "audio_features(200, 300)"
   ]
  },
  {
   "cell_type": "code",
   "execution_count": null,
   "id": "519ebec9-8038-47d0-bd3c-ada7c60ae208",
   "metadata": {},
   "outputs": [],
   "source": [
    "audio_features(300, 400)"
   ]
  },
  {
   "cell_type": "code",
   "execution_count": null,
   "id": "3040aa6c-e050-454c-ae34-46abc51a3637",
   "metadata": {},
   "outputs": [],
   "source": [
    "audio_features(400, 500)"
   ]
  },
  {
   "cell_type": "code",
   "execution_count": null,
   "id": "1788e0bf-9958-4412-992a-47b24fa12f14",
   "metadata": {},
   "outputs": [],
   "source": [
    "audio_features(500, 600)"
   ]
  },
  {
   "cell_type": "code",
   "execution_count": null,
   "id": "1e2251d1-170b-418c-9474-7b68497b82a0",
   "metadata": {},
   "outputs": [],
   "source": [
    "audio_features(600, 700)"
   ]
  },
  {
   "cell_type": "code",
   "execution_count": null,
   "id": "4180642d-8295-495b-8413-77b2d55c4e1c",
   "metadata": {},
   "outputs": [],
   "source": [
    "audio_features(700, 800)"
   ]
  },
  {
   "cell_type": "code",
   "execution_count": null,
   "id": "9215828c-5dd4-4676-9403-6fd9dd471345",
   "metadata": {},
   "outputs": [],
   "source": [
    "audio_features(800, 900)"
   ]
  },
  {
   "cell_type": "code",
   "execution_count": null,
   "id": "d7ba64fd-997f-4139-99cb-1b96e15c13d5",
   "metadata": {},
   "outputs": [],
   "source": [
    "audio_features(900, 1000)"
   ]
  },
  {
   "cell_type": "code",
   "execution_count": null,
   "id": "bfdfb972-c5aa-41c0-a984-50d12d684536",
   "metadata": {},
   "outputs": [],
   "source": [
    "audio_features(1000, 1100)"
   ]
  },
  {
   "cell_type": "code",
   "execution_count": null,
   "id": "9fdc5694-6090-4f64-8771-84af0fb2b20e",
   "metadata": {},
   "outputs": [],
   "source": [
    "audio_features(1100, 1200)"
   ]
  },
  {
   "cell_type": "code",
   "execution_count": null,
   "id": "412ff00e-f24d-40c7-a260-ad08aaaf0ffa",
   "metadata": {},
   "outputs": [],
   "source": [
    "audio_features(1200, 1300)"
   ]
  },
  {
   "cell_type": "code",
   "execution_count": null,
   "id": "4f1b3c76-4e22-41cd-9be1-b12919ad7af7",
   "metadata": {},
   "outputs": [],
   "source": [
    "audio_features(1300, 1400)"
   ]
  },
  {
   "cell_type": "code",
   "execution_count": null,
   "id": "ee71cb14-ab12-4983-ab8e-ae1d83281254",
   "metadata": {},
   "outputs": [],
   "source": [
    "audio_features(1400, 1500)"
   ]
  },
  {
   "cell_type": "code",
   "execution_count": null,
   "id": "afadcd83-4b6f-4a1e-b16b-fac7bc68e928",
   "metadata": {},
   "outputs": [],
   "source": [
    "audio_features(1500, 1600)"
   ]
  },
  {
   "cell_type": "code",
   "execution_count": null,
   "id": "d38a5d74-9cad-465f-a84b-c86e7cb3dab0",
   "metadata": {},
   "outputs": [],
   "source": [
    "audio_features(1600, 1700)"
   ]
  },
  {
   "cell_type": "code",
   "execution_count": null,
   "id": "f84a6878-15ba-4687-85b9-af8b9a306335",
   "metadata": {},
   "outputs": [],
   "source": [
    "audio_features(1700, 1800)"
   ]
  },
  {
   "cell_type": "code",
   "execution_count": null,
   "id": "dbca8c51-2143-46e0-8ed3-5370c3a01387",
   "metadata": {},
   "outputs": [],
   "source": [
    "audio_features(1800, 1900)"
   ]
  },
  {
   "cell_type": "code",
   "execution_count": null,
   "id": "e278926c-9722-413c-a72a-449ec617054d",
   "metadata": {},
   "outputs": [],
   "source": [
    "audio_features(1900, 2000)"
   ]
  },
  {
   "cell_type": "code",
   "execution_count": null,
   "id": "c253cba0-623d-4db8-b110-b101da6f0abb",
   "metadata": {},
   "outputs": [],
   "source": [
    "audio_features(2000, 2100)"
   ]
  },
  {
   "cell_type": "code",
   "execution_count": null,
   "id": "16c19518-a76e-4652-ae57-32fa5994ada2",
   "metadata": {},
   "outputs": [],
   "source": [
    "audio_features(2100, 2200)"
   ]
  },
  {
   "cell_type": "code",
   "execution_count": null,
   "id": "8050ee9e-b23e-482a-b238-f743854e2fdd",
   "metadata": {},
   "outputs": [],
   "source": [
    "audio_features(2200, 2300) "
   ]
  },
  {
   "cell_type": "code",
   "execution_count": null,
   "id": "7fbd2812-a51a-4528-993d-cc17e9d26320",
   "metadata": {},
   "outputs": [],
   "source": [
    "audio_features(2300, 2400)"
   ]
  },
  {
   "cell_type": "code",
   "execution_count": null,
   "id": "fc000959-475a-4bfa-b5d1-fbd9c4a61a7d",
   "metadata": {},
   "outputs": [],
   "source": [
    "audio_features(2400, 2500)"
   ]
  },
  {
   "cell_type": "code",
   "execution_count": null,
   "id": "0a368d6f-b132-4e7e-ad34-3261977d068b",
   "metadata": {},
   "outputs": [],
   "source": [
    "audio_features(2500, 2600)"
   ]
  },
  {
   "cell_type": "code",
   "execution_count": null,
   "id": "6a586406-b6b6-4f36-9b0a-b70ccc9aa6f9",
   "metadata": {},
   "outputs": [],
   "source": [
    "audio_features(2600, 2700)"
   ]
  },
  {
   "cell_type": "code",
   "execution_count": null,
   "id": "fc43852e-225b-403c-9510-6cb295b3a0bb",
   "metadata": {},
   "outputs": [],
   "source": [
    "audio_features(2700, 2800)"
   ]
  },
  {
   "cell_type": "code",
   "execution_count": null,
   "id": "322ab308-55ee-4983-b199-7dd81289ec58",
   "metadata": {},
   "outputs": [],
   "source": [
    "audio_features(2800, 2900)"
   ]
  },
  {
   "cell_type": "code",
   "execution_count": null,
   "id": "cfb879a1-4656-442c-aec1-1dc83a4d468c",
   "metadata": {},
   "outputs": [],
   "source": [
    "audio_features(2900, 3000)"
   ]
  },
  {
   "cell_type": "code",
   "execution_count": null,
   "id": "2e07299b-cf06-41b4-a588-8827f20f5e93",
   "metadata": {},
   "outputs": [],
   "source": [
    "audio_features(3000, 3100)"
   ]
  },
  {
   "cell_type": "code",
   "execution_count": null,
   "id": "dfc02815-3fc3-4fb8-8a80-84df60cd9883",
   "metadata": {},
   "outputs": [],
   "source": [
    "audio_features(3100, 3200)"
   ]
  },
  {
   "cell_type": "code",
   "execution_count": null,
   "id": "0e41aecd-5c4a-410d-b85b-3c0aef359ff4",
   "metadata": {},
   "outputs": [],
   "source": [
    "audio_features(3200, 3300)"
   ]
  },
  {
   "cell_type": "code",
   "execution_count": null,
   "id": "72d12851-0905-45f0-8727-d3a242200381",
   "metadata": {},
   "outputs": [],
   "source": [
    "audio_features(3300, 3400)"
   ]
  },
  {
   "cell_type": "code",
   "execution_count": null,
   "id": "4a8d4a26-9c70-4109-97cb-592ce468d682",
   "metadata": {},
   "outputs": [],
   "source": [
    "audio_features(3400, 3500)"
   ]
  },
  {
   "cell_type": "code",
   "execution_count": null,
   "id": "5c6dd367-d03f-4f2a-9929-c477f36a0374",
   "metadata": {},
   "outputs": [],
   "source": [
    "audio_features(3500, 3600)"
   ]
  },
  {
   "cell_type": "code",
   "execution_count": null,
   "id": "bce3311f-4903-449f-b609-e46210721363",
   "metadata": {},
   "outputs": [],
   "source": [
    "audio_features(3600, 3700)"
   ]
  },
  {
   "cell_type": "code",
   "execution_count": null,
   "id": "66e1e5c5-3bc6-45a8-9035-79a37438793d",
   "metadata": {},
   "outputs": [],
   "source": [
    "audio_features(3700, 3800)"
   ]
  },
  {
   "cell_type": "code",
   "execution_count": null,
   "id": "5484d900-d25c-405a-b691-6021d732c4f9",
   "metadata": {},
   "outputs": [],
   "source": [
    "audio_features(3800, 3900)"
   ]
  },
  {
   "cell_type": "code",
   "execution_count": null,
   "id": "abae67e7-d37f-4ffe-8439-666489968657",
   "metadata": {},
   "outputs": [],
   "source": [
    "audio_features(3900, 4000)"
   ]
  },
  {
   "cell_type": "code",
   "execution_count": null,
   "id": "1d191f72-b28d-487c-b0ea-8ae568bae002",
   "metadata": {},
   "outputs": [],
   "source": [
    "audio_features(4000, 4100)"
   ]
  },
  {
   "cell_type": "code",
   "execution_count": null,
   "id": "76895373-8281-416c-b9e8-94783eb2493e",
   "metadata": {},
   "outputs": [],
   "source": [
    "audio_features(4100, 4200)"
   ]
  },
  {
   "cell_type": "code",
   "execution_count": null,
   "id": "0f2d3903-d5fe-4a59-94de-4d0125545cc5",
   "metadata": {},
   "outputs": [],
   "source": [
    "audio_features(4200, 4300)"
   ]
  },
  {
   "cell_type": "code",
   "execution_count": null,
   "id": "d2aa7bf5-0f40-48a6-8b45-5980d55cfc36",
   "metadata": {},
   "outputs": [],
   "source": [
    "audio_features(4300, 4400)"
   ]
  },
  {
   "cell_type": "code",
   "execution_count": null,
   "id": "83b37836-6614-4997-9d9a-5d9521afb9ec",
   "metadata": {},
   "outputs": [],
   "source": [
    "audio_features(4400, 4500)"
   ]
  },
  {
   "cell_type": "code",
   "execution_count": null,
   "id": "f1736b61-a30c-4506-9ff7-46e005d80aa0",
   "metadata": {},
   "outputs": [],
   "source": [
    "part_1_df = pd.read_csv('master_data_part_1.csv')"
   ]
  },
  {
   "cell_type": "code",
   "execution_count": null,
   "id": "9476fbc0-6e48-46fc-8282-f34fc88a6915",
   "metadata": {},
   "outputs": [],
   "source": [
    "master_df = pd.merge(part_1_df, audio_features_df, how = 'outer', on = 'index')\n",
    "\n",
    "master_df = master_df.drop(columns = ['title_y'])\n",
    "master_df = master_df.rename(columns = {\"title_x\": \"title\"})\n",
    "\n",
    "master_df.to_csv('master_data_final.csv', index = False)"
   ]
  }
 ],
 "metadata": {
  "kernelspec": {
   "display_name": "Python 3 (ipykernel)",
   "language": "python",
   "name": "python3"
  },
  "language_info": {
   "codemirror_mode": {
    "name": "ipython",
    "version": 3
   },
   "file_extension": ".py",
   "mimetype": "text/x-python",
   "name": "python",
   "nbconvert_exporter": "python",
   "pygments_lexer": "ipython3",
   "version": "3.10.14"
  }
 },
 "nbformat": 4,
 "nbformat_minor": 5
}
