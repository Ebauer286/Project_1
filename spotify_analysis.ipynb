{
 "cells": [
  {
   "cell_type": "code",
   "execution_count": null,
   "id": "339d78aa-1845-4ae9-8c03-2601bc682f78",
   "metadata": {},
   "outputs": [],
   "source": [
    "# importing all needed libraries and api keys\n",
    "import requests\n",
    "import json\n",
    "import re\n",
    "import pandas as pd\n",
    "\n",
    "from spotify_token_request import r\n",
    "\n",
    "r"
   ]
  },
  {
   "cell_type": "code",
   "execution_count": null,
   "id": "b41232b2-9b1c-4812-b67d-3bf7eb5b4074",
   "metadata": {},
   "outputs": [],
   "source": [
    "# spotify information and headers for future api use\n",
    "spotify_api_key = r['access_token']\n",
    "spotify_headers = {\n",
    "    'Authorization': 'Bearer {}'.format(spotify_api_key)\n",
    "}"
   ]
  },
  {
   "cell_type": "code",
   "execution_count": null,
   "id": "0386db5c-7bf5-43d1-be29-48db79b7f12f",
   "metadata": {},
   "outputs": [],
   "source": [
    "# making song_id_dictionary\n",
    "# currently wip"
   ]
  },
  {
   "cell_type": "code",
   "execution_count": null,
   "id": "67b02ba0-7e2f-49fd-8f98-a9e29b60bd00",
   "metadata": {},
   "outputs": [],
   "source": [
    "# running the spotify song ids through their audio analysis to find data\n",
    "audio_analysis = {}\n",
    "chart_df = pd.DataFrame()\n",
    "index_num = 1\n",
    "\n",
    "for song in song_id_dictionary:\n",
    "    id = song_id_dictionary[song]\n",
    "    \n",
    "    try:\n",
    "        audio_analysis_url = f\"https://api.spotify.com/v1/audio-analysis/{id}\"\n",
    "        \n",
    "        audio_analysis_response = requests.get(audio_analysis_url, headers = spotify_headers).json()\n",
    "        audio_analysis[\"title\"] = song\n",
    "        audio_analysis[\"duration\"] = audio_analysis_response[\"track\"][\"duration\"]\n",
    "        audio_analysis[\"tempo\"] = audio_analysis_response[\"track\"][\"tempo\"]\n",
    "        audio_analysis[\"time_signature\"] = audio_analysis_response[\"track\"][\"time_signature\"]\n",
    "        audio_analysis[\"key\"] = audio_analysis_response[\"track\"][\"key\"]\n",
    "\n",
    "        song_df = pd.DataFrame(audio_analysis, index = [index_num])\n",
    "        chart_df = pd.concat([chart_df, song_df])\n",
    "\n",
    "        index_num += 1\n",
    "\n",
    "    except:\n",
    "        print(f\"{song} was not analyzed\")\n",
    "        yes = song\n"
   ]
  }
 ],
 "metadata": {
  "kernelspec": {
   "display_name": "Python 3 (ipykernel)",
   "language": "python",
   "name": "python3"
  },
  "language_info": {
   "codemirror_mode": {
    "name": "ipython",
    "version": 3
   },
   "file_extension": ".py",
   "mimetype": "text/x-python",
   "name": "python",
   "nbconvert_exporter": "python",
   "pygments_lexer": "ipython3",
   "version": "3.10.14"
  }
 },
 "nbformat": 4,
 "nbformat_minor": 5
}
