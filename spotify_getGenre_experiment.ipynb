{
 "cells": [
  {
   "cell_type": "code",
   "execution_count": 1,
   "id": "3f300a6e-4edf-4866-88f9-a506849dc977",
   "metadata": {},
   "outputs": [],
   "source": [
    "import requests\n",
    "import json\n",
    "import pandas as pd\n",
    "from pprint import pprint\n",
    "from time import sleep\n",
    "import os\n",
    "\n",
    "from spotify_credentials import client_id, client_secret"
   ]
  },
  {
   "cell_type": "code",
   "execution_count": null,
   "id": "a5ae8757-7ce4-4df3-a11d-f12009b59870",
   "metadata": {},
   "outputs": [],
   "source": [
    "#getting spotify access token\n",
    "url = \"https://accounts.spotify.com/api/token\"\n",
    "header = {\"Content-Type\": \"application/x-www-form-urlencoded\"}\n",
    "data = {\"grant_type\":\"client_credentials\",\n",
    "        \"client_id\" : client_id,\n",
    "        \"client_secret\" : client_secret}\n",
    "\n",
    "r = requests.post(url, data=data, headers=header).json()\n",
    "\n",
    "spotify_api_key = r['access_token']"
   ]
  },
  {
   "cell_type": "code",
   "execution_count": 4,
   "id": "3a3f2088-aa5d-4e89-b68e-3dc2a5c8644d",
   "metadata": {},
   "outputs": [],
   "source": [
    "songdf = pd.read_csv(r\"C:\\Users\\kevin\\bootcamp\\Project_1\\resources\\master_data_final.csv\")\n",
    "songdf[\"album_id\"] = \"\"\n",
    "songdf[\"genre\"] = \"\"\n",
    "\n",
    "#songdf = songdf.iloc[:,[6,2,3,4,5,7,8,9,10,11,12,13,14,15]]\n",
    "\n",
    "#iter_df = songdf.iloc[:,[0,13]]"
   ]
  },
  {
   "cell_type": "code",
   "execution_count": null,
   "id": "1a01241d-870e-41eb-ad9f-fb1225854798",
   "metadata": {},
   "outputs": [],
   "source": []
  },
  {
   "cell_type": "code",
   "execution_count": null,
   "id": "731981c6-6691-4c47-96e8-2417268c3a41",
   "metadata": {},
   "outputs": [],
   "source": [
    "spotify_album_endpoint = \"https://api.spotify.com/v1/albums/\"\n",
    "spotify_track_endpoint = \"https://api.spotify.com/v1/tracks/\"\n",
    "spotify_headers = {'Authorization': 'Bearer {}'.format(spotify_api_key)}\n",
    "\n",
    "for index, row in iter_df.iterrows():\n",
    "\n",
    "    song_id = str(iter_df.iat[index,0])\n",
    "\n",
    "    try:\n",
    "        spotify_track_response = requests.get((spotify_track_endpoint + song_id), headers = spotify_headers).json()\n",
    "        songdf.iat[index,13] = spotify_response[\"explicit\"]\n",
    "        sleep(0.25)\n",
    "        \n",
    "    except:\n",
    "        if spotify_response == {'error': {'status': 429}}:\n",
    "            print(f\"{spotify_response} on song ID = {song_id}\")\n",
    "        else:\n",
    "            print(f\"Failure on ID: {song_id}\")\n",
    "        pass\n",
    "\n",
    "        \n",
    "\n",
    "\n",
    "\n",
    "\n",
    "path = r\"C:\\Users\\kevin\\bootcamp\\Project_1\\resources\"\n",
    "songdf.to_csv(os.path.join(path,f\"master_data_final_reference.csv\"),index=False) #https://stackoverflow.com/questions/22872952/set-file-path-for-to-csv-in-pandas\n",
    "\n",
    "songdf.head()"
   ]
  }
 ],
 "metadata": {
  "kernelspec": {
   "display_name": "Python 3 (ipykernel)",
   "language": "python",
   "name": "python3"
  },
  "language_info": {
   "codemirror_mode": {
    "name": "ipython",
    "version": 3
   },
   "file_extension": ".py",
   "mimetype": "text/x-python",
   "name": "python",
   "nbconvert_exporter": "python",
   "pygments_lexer": "ipython3",
   "version": "3.12.4"
  }
 },
 "nbformat": 4,
 "nbformat_minor": 5
}
