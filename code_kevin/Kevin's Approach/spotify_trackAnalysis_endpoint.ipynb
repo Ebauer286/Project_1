{
 "cells": [
  {
   "cell_type": "code",
   "execution_count": null,
   "id": "703f62dc-5c66-40e6-844c-5ec517c63fa5",
   "metadata": {},
   "outputs": [],
   "source": [
    "import requests\n",
    "import json\n",
    "import pandas as pd\n",
    "from pprint import pprint\n",
    "from time import sleep\n",
    "import os\n",
    "\n",
    "from spotify_credentials import client_id, client_secret\n"
   ]
  },
  {
   "cell_type": "code",
   "execution_count": null,
   "id": "75426164-17e9-4917-b97f-997185ba49bd",
   "metadata": {},
   "outputs": [],
   "source": [
    "#getting spotify access token\n",
    "url = \"https://accounts.spotify.com/api/token\"\n",
    "header = {\"Content-Type\": \"application/x-www-form-urlencoded\"}\n",
    "data = {\"grant_type\":\"client_credentials\",\n",
    "        \"client_id\" : client_id,\n",
    "        \"client_secret\" : client_secret}\n",
    "\n",
    "r = requests.post(url, data=data, headers=header).json()\n",
    "\n",
    "spotify_api_key = r['access_token']\n"
   ]
  },
  {
   "cell_type": "code",
   "execution_count": null,
   "id": "834ee448-a061-4c03-9aac-0dd84f4884ef",
   "metadata": {},
   "outputs": [],
   "source": [
    "songdf = pd.read_csv(r\"C:\\Users\\kevin\\bootcamp\\Project_1\\resources\\top100_allYears_withID_final.csv\")\n",
    "songdf[\"duration\"] = 0\n",
    "songdf[\"loudness\"] = 0\n",
    "songdf[\"tempo\"] = 0\n",
    "songdf[\"time_signiture\"] = 0\n",
    "songdf[\"key\"] = 0\n",
    "songdf = songdf.iloc[:,[5,1,2,3,4,6,7,8,9,10]]\n",
    "#songdf = songdf.head(1)"
   ]
  },
  {
   "cell_type": "code",
   "execution_count": null,
   "id": "b75d55da-0755-4424-82c9-742eb5895f70",
   "metadata": {},
   "outputs": [],
   "source": [
    "spotify_analysis_endpoint = \"https://api.spotify.com/v1/audio-analysis/\"\n",
    "spotify_headers = {'Authorization': 'Bearer {}'.format(spotify_api_key)}\n",
    "\n",
    "for index, row in songdf.iterrows():\n",
    "\n",
    "    song_id = str(songdf.iat[index,0])\n",
    "\n",
    "    request_url = spotify_analysis_endpoint + song_id\n",
    "\n",
    "    try:\n",
    "        spotify_response = requests.get(request_url, headers = spotify_headers).json()\n",
    "        songdf.iat[index,5] = float(spotify_response[\"track\"][\"duration\"])\n",
    "        songdf.iat[index,6] = float(spotify_response[\"track\"][\"loudness\"])\n",
    "        songdf.iat[index,7] = float(spotify_response[\"track\"][\"tempo\"])\n",
    "        songdf.iat[index,8] = float(spotify_response[\"track\"][\"time_signature\"])\n",
    "        songdf.iat[index,9] = float(spotify_response[\"track\"][\"key\"])\n",
    "        sleep(0.5)\n",
    "        \n",
    "    except:\n",
    "        if spotify_response == {'error': {'status': 429}}:\n",
    "            print(f\"{spotify_response} on song ID = {song_id}\")\n",
    "        else:\n",
    "            print(f\"Failure on ID: {song_id}\")\n",
    "        pass\n",
    "        \n",
    "\n",
    "\n",
    "songdf.head()\n",
    "\n",
    "path = r\"C:\\Users\\kevin\\bootcamp\\Project_1\\resources\"\n",
    "songdf.to_csv(os.path.join(path,f\"master_data.csv\")) #https://stackoverflow.com/questions/22872952/set-file-path-for-to-csv-in-pandas"
   ]
  },
  {
   "cell_type": "code",
   "execution_count": null,
   "id": "f7bd85e7-2052-45e5-ab46-4fe7a319580d",
   "metadata": {},
   "outputs": [],
   "source": [
    "songdf = pd.read_csv(r\"C:\\Users\\kevin\\bootcamp\\Project_1\\resources\\master_data.csv\")\n",
    "songdf = songdf.iloc[:,[1,2,3,4,5,6,7,8,9,10]]\n",
    "#songdf = songdf.head(2010)"
   ]
  },
  {
   "cell_type": "code",
   "execution_count": null,
   "id": "e477f4c8-6233-437b-aaeb-23ab8b3b39a1",
   "metadata": {},
   "outputs": [],
   "source": [
    "#WARNING!!! MAKE SURE TO READ IN CORRECT CSV TO NOT OVERWRITE PAST CALLS!!!!!!!!\n",
    "#this code block mirrors the function above, calling on the Spotify analysis endpoint. \n",
    "#the primary difference is that it pickups up at a point in the read in csv, where data has not been written from previous calls.\n",
    "#this code was created to deal with the call limits reached with spotify's api.\n",
    "\n",
    "spotify_analysis_endpoint = \"https://api.spotify.com/v1/audio-analysis/\"\n",
    "spotify_headers = {'Authorization': 'Bearer {}'.format(spotify_api_key)}\n",
    "\n",
    "for index, row in songdf.iterrows():\n",
    "\n",
    "    #nesting the main code block inside an conditional, which should help pickin up  \n",
    "    if songdf.iat[index,5] != 0:\n",
    "        pass\n",
    "    \n",
    "    elif songdf.iat[index,5] == 0:\n",
    "        song_id = str(songdf.iat[index,0])\n",
    "    \n",
    "        request_url = spotify_analysis_endpoint + song_id\n",
    "    \n",
    "        try:\n",
    "            spotify_response = requests.get(request_url, headers = spotify_headers).json()\n",
    "            songdf.iat[index,5] = float(spotify_response[\"track\"][\"duration\"])\n",
    "            songdf.iat[index,6] = float(spotify_response[\"track\"][\"loudness\"])\n",
    "            songdf.iat[index,7] = float(spotify_response[\"track\"][\"tempo\"])\n",
    "            songdf.iat[index,8] = float(spotify_response[\"track\"][\"time_signature\"])\n",
    "            songdf.iat[index,9] = float(spotify_response[\"track\"][\"key\"])\n",
    "            sleep(0.5)\n",
    "            \n",
    "        except:\n",
    "            if spotify_response == {'error': {'status': 429}}:\n",
    "                print(f\"{spotify_response} on song ID = {song_id}\")\n",
    "            else:\n",
    "                print(f\"Failure on ID: {song_id}\")\n",
    "            pass\n",
    "\n",
    "    else:\n",
    "        print(\"pickup point error\")\n",
    "        \n",
    "\n",
    "\n",
    "songdf.head()\n",
    "\n",
    "path = r\"C:\\Users\\kevin\\bootcamp\\Project_1\\resources\"\n",
    "songdf.to_csv(os.path.join(path,f\"master_data_fullList.csv\")) #https://stackoverflow.com/questions/22872952/set-file-path-for-to-csv-in-pandas"
   ]
  },
  {
   "cell_type": "code",
   "execution_count": null,
   "id": "fe709e95-671c-40dd-9398-f48d5ddda6ac",
   "metadata": {},
   "outputs": [],
   "source": []
  }
 ],
 "metadata": {
  "kernelspec": {
   "display_name": "Python 3 (ipykernel)",
   "language": "python",
   "name": "python3"
  },
  "language_info": {
   "codemirror_mode": {
    "name": "ipython",
    "version": 3
   },
   "file_extension": ".py",
   "mimetype": "text/x-python",
   "name": "python",
   "nbconvert_exporter": "python",
   "pygments_lexer": "ipython3",
   "version": "3.12.4"
  }
 },
 "nbformat": 4,
 "nbformat_minor": 5
}
