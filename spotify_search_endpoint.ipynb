{
 "cells": [
  {
   "cell_type": "code",
   "execution_count": 1,
   "id": "5f413457-432f-48dc-a8c0-947d80d45af3",
   "metadata": {},
   "outputs": [],
   "source": [
    "import requests\n",
    "import json\n",
    "from pprint import pprint\n",
    "\n",
    "from spotify_credentials import client_id, client_secret"
   ]
  },
  {
   "cell_type": "code",
   "execution_count": 2,
   "id": "5db24618-4d88-430e-a266-a31641b39e75",
   "metadata": {},
   "outputs": [],
   "source": [
    "#getting spotify access token\n",
    "url = \"https://accounts.spotify.com/api/token\"\n",
    "header = {\"Content-Type\": \"application/x-www-form-urlencoded\"}\n",
    "data = {\"grant_type\":\"client_credentials\",\n",
    "        \"client_id\" : client_id,\n",
    "        \"client_secret\" : client_secret}\n",
    "\n",
    "r = requests.post(url, data=data, headers=header).json()\n",
    "\n",
    "spotify_api_token = r['access_token']"
   ]
  },
  {
   "cell_type": "code",
   "execution_count": 29,
   "id": "a2bb7f8a-83b1-4c49-a10c-145e51bbb8c6",
   "metadata": {},
   "outputs": [
    {
     "name": "stdout",
     "output_type": "stream",
     "text": [
      "['Nathan Allen'] 2nTpK1d61LqZ68zLUWzEOp\n",
      "['Megan Moroney'] 36wAwEkSDpNQ4oQeRLYC3L\n",
      "['Muni Long'] 3ncmoWTwJgx63LwMTyBCXf\n",
      "['Nathan Allen'] 4R8bxjmbyHYv7PoZzV5ptn\n",
      "['Uncle Lucius'] 1YzIpqwnj5M8qylwn1Tr9Z\n",
      "['Muni Long'] 5ZfQFxeeGGiKUmwzQBbGaV\n",
      "['JustAcoustic'] 46nYs02Jc9xY3anH6W8DIu\n",
      "['Ariana Grande'] 6ocbgoVGwYJhOv1GgI9NsF\n",
      "['Muni Long'] 5Ej6ptHhOt4cR6AODkU9tE\n",
      "['The Acoustic Guitar Force'] 5eBZg8JCGLw5XC7HHeNp5R\n"
     ]
    }
   ],
   "source": [
    "search_song = \"Hrs And Hrs\"\n",
    "\n",
    "spotify_search_endpoint = \"https://api.spotify.com/v1/search\"\n",
    "spotify_headers = {'Authorization': 'Bearer {}'.format(spotify_api_token)}\n",
    "params = {\n",
    "    \"q\": search_song,\n",
    "    \"type\":\"track\",\n",
    "    \"limit\":\"10\"\n",
    "}\n",
    "\n",
    "#request_url = spotify_tracks_endpoint + id\n",
    "try:\n",
    "    spotify_response = requests.get(spotify_search_endpoint, headers = spotify_headers, params=params).json()\n",
    "    \n",
    "    \n",
    "    items = spotify_response[\"tracks\"][\"items\"]\n",
    "    #pprint(items)\n",
    "    for n, item in enumerate(items):\n",
    "        #pprint(item)\n",
    "        #pprint(item[\"album\"])\n",
    "        artists = []\n",
    "        details = item[\"album\"][\"artists\"]\n",
    "    \n",
    "        for detail in details:\n",
    "            artist = detail[\"name\"]\n",
    "            artists.append(artist)\n",
    "        track_id = item[\"id\"]\n",
    "        print(artists, track_id)\n",
    "except:\n",
    "    print(\"no details found\")\n",
    "\n"
   ]
  }
 ],
 "metadata": {
  "kernelspec": {
   "display_name": "Python 3 (ipykernel)",
   "language": "python",
   "name": "python3"
  },
  "language_info": {
   "codemirror_mode": {
    "name": "ipython",
    "version": 3
   },
   "file_extension": ".py",
   "mimetype": "text/x-python",
   "name": "python",
   "nbconvert_exporter": "python",
   "pygments_lexer": "ipython3",
   "version": "3.12.4"
  }
 },
 "nbformat": 4,
 "nbformat_minor": 5
}
