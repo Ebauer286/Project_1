{
 "cells": [
  {
   "cell_type": "code",
   "execution_count": 30,
   "id": "5f413457-432f-48dc-a8c0-947d80d45af3",
   "metadata": {},
   "outputs": [],
   "source": [
    "import requests\n",
    "import json\n",
    "from pprint import pprint\n",
    "\n",
    "from spotify_credentials import client_id, client_secret"
   ]
  },
  {
   "cell_type": "code",
   "execution_count": 31,
   "id": "5db24618-4d88-430e-a266-a31641b39e75",
   "metadata": {},
   "outputs": [],
   "source": [
    "#getting spotify access token\n",
    "url = \"https://accounts.spotify.com/api/token\"\n",
    "header = {\"Content-Type\": \"application/x-www-form-urlencoded\"}\n",
    "data = {\"grant_type\":\"client_credentials\",\n",
    "        \"client_id\" : client_id,\n",
    "        \"client_secret\" : client_secret}\n",
    "\n",
    "r = requests.post(url, data=data, headers=header).json()\n",
    "\n",
    "spotify_api_token = r['access_token']"
   ]
  },
  {
   "cell_type": "code",
   "execution_count": 45,
   "id": "a2bb7f8a-83b1-4c49-a10c-145e51bbb8c6",
   "metadata": {},
   "outputs": [
    {
     "name": "stdout",
     "output_type": "stream",
     "text": [
      "['Various Artists'] 21iEEekDSvQjVARSQ4dpXY\n",
      "['EverythingOShauN'] 3Q87F4O3QBbwAa5h0ekx8o\n",
      "['jsilos'] 2h945VWM1QyeqzbZ1dIN2i\n",
      "['Various Artists'] 1UAwkwmFO3Bpmc7QNB9A3n\n",
      "['blackbear'] 3wMQczkpe5xftuUqkc8dAu\n",
      "['Avenoir'] 4ATldz2t0zMGWtFK3uqDL4\n",
      "['Various Artists'] 2cTClnXuGnJyGSzY9mhcfp\n",
      "['Alaina Castillo'] 4kT9Ie0YpCGlYTKrSE60iV\n",
      "['Cartier God'] 2HHTV3Cg0te33vnjBgNWHo\n",
      "['Nastyboy Klick'] 306s4Ue5guK5kxgKLJbz0v\n",
      "['Various Artists'] 2mghatgMmJoSbX54Ca912g\n",
      "['Juggshots'] 6kOcM5ARC2bCVuFQuvgMBX\n",
      "['badtwentyfour.'] 5q7SxszRdcvMmsFjKrGgxn\n",
      "['Various Artists'] 5Rv7BBzVXbenayaN26HmrE\n",
      "['Juggshots'] 0X7ucn2zKBldelha7wKrGg\n",
      "['Russ'] 52C7YvqXdiIHD9qLK5SHrr\n",
      "['Orbital Planes'] 0LIQDkVQseFN1h8wIJ7KOo\n",
      "['Erin Kaith'] 3YSBjkziV3Ad1PDb937iod\n",
      "['Baywaves'] 1nxLwsJRRCkxMG0h6yrVRI\n",
      "['808toofly'] 44UfSglP7Q4zIvSkiEO706\n"
     ]
    }
   ],
   "source": [
    "search_song = \"Down 4 U\"\n",
    "\n",
    "spotify_search_endpoint = \"https://api.spotify.com/v1/search\"\n",
    "spotify_headers = {'Authorization': 'Bearer {}'.format(spotify_api_token)}\n",
    "params = {\n",
    "    \"q\": search_song,\n",
    "    \"type\":\"track\",\n",
    "    \"limit\":\"20\"\n",
    "}\n",
    "\n",
    "#request_url = spotify_tracks_endpoint + id\n",
    "try:\n",
    "    spotify_response = requests.get(spotify_search_endpoint, headers = spotify_headers, params=params).json()\n",
    "    \n",
    "    items = spotify_response[\"tracks\"][\"items\"]\n",
    "    \n",
    "    for n, item in enumerate(items):\n",
    "        \n",
    "        artists = []\n",
    "        details = item[\"album\"][\"artists\"]\n",
    "    \n",
    "        for detail in details:\n",
    "            artist = detail[\"name\"]\n",
    "            artists.append(artist)\n",
    "        track_id = item[\"id\"]\n",
    "        print(artists, track_id)\n",
    "\n",
    "except:\n",
    "    print(\"no details found\")\n",
    "\n"
   ]
  },
  {
   "cell_type": "code",
   "execution_count": null,
   "id": "705e9e66-e3a0-42b1-be76-d2583bb1c65a",
   "metadata": {},
   "outputs": [],
   "source": []
  }
 ],
 "metadata": {
  "kernelspec": {
   "display_name": "Python 3 (ipykernel)",
   "language": "python",
   "name": "python3"
  },
  "language_info": {
   "codemirror_mode": {
    "name": "ipython",
    "version": 3
   },
   "file_extension": ".py",
   "mimetype": "text/x-python",
   "name": "python",
   "nbconvert_exporter": "python",
   "pygments_lexer": "ipython3",
   "version": "3.12.4"
  }
 },
 "nbformat": 4,
 "nbformat_minor": 5
}
