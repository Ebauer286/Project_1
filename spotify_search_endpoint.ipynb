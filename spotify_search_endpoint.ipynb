{
 "cells": [
  {
   "cell_type": "code",
   "execution_count": 30,
   "id": "5f413457-432f-48dc-a8c0-947d80d45af3",
   "metadata": {},
   "outputs": [],
   "source": [
    "import requests\n",
    "import json\n",
    "from pprint import pprint\n",
    "\n",
    "from spotify_credentials import client_id, client_secret"
   ]
  },
  {
   "cell_type": "code",
   "execution_count": 126,
   "id": "5db24618-4d88-430e-a266-a31641b39e75",
   "metadata": {},
   "outputs": [],
   "source": [
    "#getting spotify access token\n",
    "url = \"https://accounts.spotify.com/api/token\"\n",
    "header = {\"Content-Type\": \"application/x-www-form-urlencoded\"}\n",
    "data = {\"grant_type\":\"client_credentials\",\n",
    "        \"client_id\" : client_id,\n",
    "        \"client_secret\" : client_secret}\n",
    "\n",
    "r = requests.post(url, data=data, headers=header).json()\n",
    "\n",
    "spotify_api_token = r['access_token']"
   ]
  },
  {
   "cell_type": "code",
   "execution_count": 131,
   "id": "a2bb7f8a-83b1-4c49-a10c-145e51bbb8c6",
   "metadata": {},
   "outputs": [
    {
     "name": "stdout",
     "output_type": "stream",
     "text": [
      "['Lionel Richie'] 2Wb9ejnmy27DUTUe9YF5Ew\n",
      "['Lionel Richie'] 4giIdAr7Plyu5LQzBOR4FP\n",
      "['Tommy Richman'] 5AJ9hqTS2wcFQCELCFRO7A\n",
      "['Mary Jane Girls'] 7iyjZ4paFWpTrJJenM0yZb\n",
      "['Sammy Adams'] 1vNn7rVQT6UtEW1NGH53fT\n",
      "['AC/DC'] 2SiXAy7TuUkycRVbbWDEpo\n",
      "['Mary J. Blige'] 2zwmugV2IbUwKq5JgOWEpv\n",
      "['Shaboozey'] 2FQrifJ1N335Ljm3TjTVVf\n",
      "['Luke Combs'] 48UKTR66uUOT9LaUvooTNx\n",
      "['Sammy Adams'] 5PXhYXlPf6CCGrSeZEmJZH\n",
      "['Lionel Richie'] 28uI9fFNHCelCuLS613SVi\n",
      "['Shaboozey'] 5fZJQrFKWQLb7FpJXZ1g7K\n",
      "['1100 Himself', 'Mitchell'] 2ZcTqg8YdQitiypgKaPr3w\n",
      "['thủy'] 5DyBTivjORrpNhJkJj2Ao5\n",
      "['Kungs', 'David Guetta', 'Izzy Bizu'] 1vQWFjEC34DHNXrRTFjDxe\n",
      "['Jung Kook'] 2KslE17cAJNHTsI2MI0jb2\n",
      "['Various Artists'] 7wuiuKc2Bd5xLPPggdkxLr\n",
      "['Luke Bryan'] 03fT3OHB9KyMtGMt2zwqCT\n",
      "['Lionel Richie'] 7gaQtc0vrSpmRJpSMDiPEk\n",
      "['Milky Chance'] 0ZfByLXCeKchuj7zi1CJ0S\n",
      "['Mary Jane Girls'] 62ubbkWAhTOftwgRjHS1UH\n",
      "['Chris Stussy'] 7b4twDZXjQf8gyQGSvySZd\n",
      "['80purppp'] 7D7e6hm2LiNd6nLuJF6K9Q\n",
      "['Billy Squier'] 5eqTvP4fooKYTc9LdmrpdT\n",
      "['Jung Kook'] 2VqMBiaxblhhBHyB9X4ESl\n",
      "['Faith Evans'] 4Bh83s84d9YUiuLzeuF24N\n",
      "['Eagles'] 36psUsoODcqVG52lQIzDNy\n",
      "['Rascal Flatts'] 2Fs18NaCDuluPG1DHGw1XG\n",
      "['Pachyman'] 1241XE9zZ2r4EmimoH9znZ\n",
      "['Nora Van Elken', 'Y.V.E. 48'] 1QOVSkrcX34pDPPxa1Xv5y\n",
      "['Rodney Atkins'] 7B6m8tHAYZsOKOKMU5SR2n\n",
      "['mgk'] 4gKCKczP2zGcRn5okrxLU7\n",
      "['Mary J. Blige'] 3V6zLI4gOLEwtpC56YN6bd\n",
      "['Brent Faiyaz'] 1dbar1XukTbn7FQzQTqDQK\n",
      "['Mary J. Blige'] 1GmqbthsQEpnLiU1hnlFVn\n",
      "['Sammy Adams'] 0DlLxg94mMvS0EYD4eoOXB\n",
      "['Merkules'] 3uQYkDmj8t2RHTlDqQvBv7\n",
      "['Kavinsky'] 0U0ldCRmgCqhVvD6ksG63j\n",
      "['Lionel Richie'] 6u0CQFBsn3NEuZDuaDwiXe\n",
      "['HP Vince', 'Dave Leatherman'] 6qhdRYFh0cpz8zrB30lV7m\n",
      "['Buckcherry'] 24lhZn3txaaxQl229GgvbV\n",
      "['Hank Williams, Jr.'] 73ZTWCuwudUVvvWipRnQnQ\n",
      "['Mary J. Blige'] 17yNN8XanA50Ko8wUTGn1H\n",
      "['Various Artists'] 5gB2IrxOCX2j9bMnHKP38i\n",
      "['Mount Hayes'] 6tzPOKKrb81TkFkdT8Q0Bq\n",
      "['James Walsh'] 6cfOIc6dupiLoow6dlTPwS\n",
      "['Lil Peep', 'Lil Tracy'] 57NsyEzmk0NT3NcOwuQT55\n",
      "['Mishaal Tamer'] 0zprG792oR31uWPCkYbCJZ\n",
      "['Eve St. Jones'] 6uteqvtnxNOzwVDCrP3wmL\n",
      "['Luke Combs'] 226le7T3p82reYWzsi9Hsz\n"
     ]
    }
   ],
   "source": [
    "search_song = \"all night long\"\n",
    "\n",
    "spotify_search_endpoint = \"https://api.spotify.com/v1/search\"\n",
    "spotify_headers = {'Authorization': 'Bearer {}'.format(spotify_api_token)}\n",
    "params = {\n",
    "    \"q\": search_song,\n",
    "    \"type\":\"track\",\n",
    "    \"limit\":\"50\"\n",
    "}\n",
    "\n",
    "#request_url = spotify_tracks_endpoint + id\n",
    "try:\n",
    "    spotify_response = requests.get(spotify_search_endpoint, headers = spotify_headers, params=params).json()\n",
    "    \n",
    "    items = spotify_response[\"tracks\"][\"items\"]\n",
    "    \n",
    "    for n, item in enumerate(items):\n",
    "        \n",
    "        artists = []\n",
    "        details = item[\"album\"][\"artists\"]\n",
    "    \n",
    "        for detail in details:\n",
    "            artist = detail[\"name\"]\n",
    "            artists.append(artist)\n",
    "        track_id = item[\"id\"]\n",
    "        print(artists, track_id)\n",
    "\n",
    "except:\n",
    "    print(\"no details found\")\n",
    "\n"
   ]
  },
  {
   "cell_type": "code",
   "execution_count": null,
   "id": "705e9e66-e3a0-42b1-be76-d2583bb1c65a",
   "metadata": {},
   "outputs": [],
   "source": []
  }
 ],
 "metadata": {
  "kernelspec": {
   "display_name": "Python 3 (ipykernel)",
   "language": "python",
   "name": "python3"
  },
  "language_info": {
   "codemirror_mode": {
    "name": "ipython",
    "version": 3
   },
   "file_extension": ".py",
   "mimetype": "text/x-python",
   "name": "python",
   "nbconvert_exporter": "python",
   "pygments_lexer": "ipython3",
   "version": "3.12.4"
  }
 },
 "nbformat": 4,
 "nbformat_minor": 5
}
