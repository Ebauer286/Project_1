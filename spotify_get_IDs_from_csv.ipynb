{
 "cells": [
  {
   "cell_type": "code",
   "execution_count": null,
   "id": "52884923-8d03-44ab-842e-af3420953f11",
   "metadata": {},
   "outputs": [],
   "source": [
    "import requests\n",
    "import re\n",
    "import json\n",
    "import pandas as pd\n",
    "from pprint import pprint\n",
    "from time import sleep\n",
    "import os\n",
    "\n",
    "from spotify_credentials import client_id, client_secret"
   ]
  },
  {
   "cell_type": "code",
   "execution_count": null,
   "id": "e5ba280f-cdc5-4432-8d06-702d22a675f8",
   "metadata": {},
   "outputs": [],
   "source": [
    "#getting spotify access token\n",
    "url = \"https://accounts.spotify.com/api/token\"\n",
    "header = {\"Content-Type\": \"application/x-www-form-urlencoded\"}\n",
    "data = {\"grant_type\":\"client_credentials\",\n",
    "        \"client_id\" : client_id,\n",
    "        \"client_secret\" : client_secret}\n",
    "\n",
    "r = requests.post(url, data=data, headers=header).json()\n",
    "\n",
    "spotify_api_token = r['access_token']"
   ]
  },
  {
   "cell_type": "code",
   "execution_count": null,
   "id": "e9eb18d6-1c13-4380-a623-ced979d6bf70",
   "metadata": {},
   "outputs": [],
   "source": [
    "songdf = pd.read_csv(r\"C:\\Users\\kevin\\bootcamp\\Project_1\\resources\\all_top100songs_by_year.csv\")\n",
    "songdf[\"id\"] = \"\"\n",
    "#removing unnecessary index columns\n",
    "songdf = songdf.iloc[:,[2,3,4,5,6]]"
   ]
  },
  {
   "cell_type": "code",
   "execution_count": null,
   "id": "1ae10741-e477-4049-a283-6393171641c7",
   "metadata": {},
   "outputs": [],
   "source": [
    "#This block of code iterates over the dataframe songdf set above. At each row of the DataFrame# \n",
    "#it gets artist and song values and formats them, then passes these values into the Spotify search endpoint (https://developer.spotify.com/documentation/web-api/reference/search), which returns a unique song ID.\n",
    "#This song id value is assigned to the [row, id] position, for the current row.\n",
    "#a csv with song IDs added to each row is created.\n",
    "\n",
    "#setting Spotify endpoint header\n",
    "spotify_headers = {'Authorization': 'Bearer {}'.format(spotify_api_token)}\n",
    "\n",
    "for index, row in songdf.iterrows():#https://www.geeksforgeeks.org/iterating-over-rows-and-columns-in-pandas-dataframe/\n",
    "  \n",
    "    #https://pandas.pydata.org/docs/reference/api/pandas.DataFrame.at.html\n",
    "    artist = re.split(' Featuring | With | Duet | X | x | & |, | \\\\(| And | Feat.', songdf.iat[index,1])[0].split()\n",
    "    artist_final = '+'.join(artist)\n",
    "\n",
    "    song = re.split(' \\\\(', songdf.iat[index,0])[0].replace(\"/\",\" \").split()\n",
    "    song_final = '+'.join(song)\n",
    "    \n",
    "\n",
    "    try:\n",
    "        search_url = f\"https://api.spotify.com/v1/search?q=track%3A{song_final}+artist%3A{artist_final}&type=track\"\n",
    "        search_response = requests.get(search_url, headers = spotify_headers).json()\n",
    "        song_id = search_response[\"tracks\"][\"items\"][0][\"id\"]\n",
    "                \n",
    "    except:\n",
    "        print(f\"no ID available for song named: {song_final} by {artist_final}\")\n",
    "        song_id = \"\"\n",
    "        pass\n",
    "    \n",
    "    songdf.iat[index,4] = str(song_id)\n",
    "   \n",
    "\n",
    "print(\"---------------\")\n",
    "print(\"calls complete.\")\n",
    "print(\"---------------\")\n",
    "\n",
    "\n",
    "path = r\"C:\\Users\\kevin\\bootcamp\\Project_1\\resources\"\n",
    "songdf.to_csv(os.path.join(path,f\"top100_allYears_withID.csv\")) #https://stackoverflow.com/questions/22872952/set-file-path-for-to-csv-in-pandas\n"
   ]
  }
 ],
 "metadata": {
  "kernelspec": {
   "display_name": "Python 3 (ipykernel)",
   "language": "python",
   "name": "python3"
  },
  "language_info": {
   "codemirror_mode": {
    "name": "ipython",
    "version": 3
   },
   "file_extension": ".py",
   "mimetype": "text/x-python",
   "name": "python",
   "nbconvert_exporter": "python",
   "pygments_lexer": "ipython3",
   "version": "3.12.4"
  }
 },
 "nbformat": 4,
 "nbformat_minor": 5
}
