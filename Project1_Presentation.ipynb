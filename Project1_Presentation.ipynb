{
 "cells": [
  {
   "cell_type": "markdown",
   "id": "05555dae-8499-4058-9d80-ea22ad65e352",
   "metadata": {},
   "source": [
    "# Project 1: Analyzing Trends in Popular Music from 1980 to Present Day"
   ]
  },
  {
   "cell_type": "code",
   "execution_count": null,
   "id": "508cf230-a1f6-4c68-ad34-468a1c5cd311",
   "metadata": {},
   "outputs": [],
   "source": [
    "import pandas as pd\n",
    "import matplotlib.pyplot as plt"
   ]
  },
  {
   "cell_type": "code",
   "execution_count": null,
   "id": "66a1c711-0c84-42cb-bcd3-0fa79e20f55b",
   "metadata": {},
   "outputs": [],
   "source": [
    "all_songs_df = pd.read_csv(r'C:\\Users\\Ebaue\\OneDrive\\Desktop\\Data Analytics\\Project 1\\master_data_final.csv')\n",
    "all_songs_df = all_songs_df.iloc[:,[1,2,3,4,5,6,7,8,9,10,11,12,13,14]]\n",
    "all_songs_df.head()"
   ]
  },
  {
   "cell_type": "markdown",
   "id": "6231c253-9a41-49af-a23b-737589dfcca1",
   "metadata": {},
   "source": [
    " Danceability"
   ]
  },
  {
   "cell_type": "code",
   "execution_count": null,
   "id": "05841133-59f4-4ce0-b6ed-28ed7549f1fd",
   "metadata": {},
   "outputs": [],
   "source": [
    "plt.figure(figsize=(30,10))\n",
    "plt.scatter(x_axis, valence_by_year_df[\"valence\"], color='r')\n",
    "plt.xticks(tick_locations, valence_by_year_df[\"year\"], rotation=\"vertical\")\n",
    "\n",
    "plt.show()"
   ]
  },
  {
   "cell_type": "code",
   "execution_count": null,
   "id": "ee671a6e-e5ff-471a-9c8f-09c4d840d59b",
   "metadata": {},
   "outputs": [],
   "source": [
    "plt.figure(figsize=(30,10))\n",
    "plt.scatter(x_axis, valence_by_year_df[\"valence\"], color='r')\n",
    "plt.xticks(tick_locations, valence_by_year_df[\"year\"], rotation=\"vertical\")\n",
    "\n",
    "plt.show()"
   ]
  },
  {
   "cell_type": "code",
   "execution_count": null,
   "id": "182d6321-0ecb-4a53-b9f2-0a8cf74018fe",
   "metadata": {},
   "outputs": [],
   "source": [
    "plt.figure(figsize=(30,10))\n",
    "plt.scatter(x_axis, valence_by_year_df[\"valence\"], color='r')\n",
    "plt.xticks(tick_locations, valence_by_year_df[\"year\"], rotation=\"vertical\")\n",
    "\n",
    "plt.show()"
   ]
  },
  {
   "cell_type": "code",
   "execution_count": null,
   "id": "c66ce175-d3fc-4694-a7ee-d193971b1650",
   "metadata": {},
   "outputs": [],
   "source": [
    "plt.figure(figsize=(30,10))\n",
    "plt.scatter(x_axis, danceability_by_year_df[\"danceability\"], color='r')\n",
    "plt.xticks(tick_locations, danceability_by_year_df[\"year\"], rotation=\"vertical\")\n",
    "\n",
    "plt.show()"
   ]
  },
  {
   "cell_type": "markdown",
   "id": "852c2123-f1b6-4573-9628-dd66f9646596",
   "metadata": {},
   "source": [
    "#### tempo"
   ]
  },
  {
   "cell_type": "code",
   "execution_count": null,
   "id": "444c9e24-5ad4-48b4-9d13-c8e664f16a5e",
   "metadata": {},
   "outputs": [],
   "source": [
    "tempo_all_songs_df = all_songs_df.iloc[[n for n in range(0,4499)],[0,4,8]]"
   ]
  },
  {
   "cell_type": "code",
   "execution_count": null,
   "id": "5577e6a7-306f-41bf-80c4-cd04acb6313c",
   "metadata": {},
   "outputs": [],
   "source": [
    "tempo_all_songs_df = all_songs_df.iloc[[n for n in range(0,4499)],[0,4,8]]"
   ]
  },
  {
   "cell_type": "code",
   "execution_count": null,
   "id": "099159ee-9fec-4c0a-a2f7-fedcfb1cc1ab",
   "metadata": {},
   "outputs": [],
   "source": [
    "# Set x axis and tick locations\n",
    "x_axis = tempo_by_year_df[\"year\"].to_list()\n",
    "tick_locations = [value for value in x_axis]"
   ]
  },
  {
   "cell_type": "code",
   "execution_count": null,
   "id": "54eebaee-49c1-411c-af38-0736cff7df61",
   "metadata": {},
   "outputs": [],
   "source": [
    "plt.figure(figsize=(30,10))\n",
    "plt.scatter(x_axis, tempo_by_year_df[\"tempo\"], color='r')\n",
    "plt.xticks(tick_locations, tempo_by_year_df[\"year\"], rotation=\"vertical\")\n",
    "\n",
    "plt.show()"
   ]
  },
  {
   "cell_type": "markdown",
   "id": "751933f4-6f9a-45cd-8ae9-3f1e0c4d6f6b",
   "metadata": {},
   "source": [
    "## Energy"
   ]
  },
  {
   "cell_type": "code",
   "execution_count": null,
   "id": "4860c7f8-df88-4b93-8d88-c9a63f1be442",
   "metadata": {},
   "outputs": [],
   "source": [
    "energy_all_songs_df = all_songs_df.iloc[[n for n in range(0,4499)],[0,4,12]]"
   ]
  },
  {
   "cell_type": "code",
   "execution_count": null,
   "id": "bafc1192-d47e-4905-9dcb-a311cb5e2a42",
   "metadata": {},
   "outputs": [],
   "source": [
    "energy_by_year_df = (pd.DataFrame(energy_all_songs_df.groupby([\"year\"]).mean(numeric_only=True)).reset_index())\n",
    "#energy_by_year_df.set_index(\"year\")\n",
    "energy_by_year_df.head()"
   ]
  },
  {
   "cell_type": "code",
   "execution_count": null,
   "id": "dc48c58c-b155-4d25-a4bc-0f55df962a28",
   "metadata": {},
   "outputs": [],
   "source": [
    "# Set x axis and tick locations\n",
    "x_axis = energy_by_year_df[\"year\"].to_list()\n",
    "tick_locations = [value for value in x_axis]"
   ]
  },
  {
   "cell_type": "code",
   "execution_count": null,
   "id": "1d17edd9-a7c3-48e7-8955-04f7490f1811",
   "metadata": {},
   "outputs": [],
   "source": [
    "plt.figure(figsize=(30,10))\n",
    "plt.scatter(x_axis, energy_by_year_df[\"energy\"], color='r')\n",
    "plt.xticks(tick_locations, energy_by_year_df[\"year\"], rotation=\"vertical\")\n",
    "\n",
    "plt.show()"
   ]
  },
  {
   "cell_type": "markdown",
   "id": "32206958-607e-4c51-86e3-237123e014fe",
   "metadata": {},
   "source": [
    "ENERGY ANALYSIS\n",
    "Energy: Energy trends in music from 1980 to 2024 showcase an overall upward trend with 2 distinct peak and valley cycles. Starting at it's lowest point in 1980, between 1983 - 1993 we see the first peak and valley with two peaks in 1984 and 1990, dropping down in 1993. Over the next 18 years there is a positive trend in energy levels within music leading to the top peak in 2010 at .750, before the data starts trending downward til present day.\r\n",
    "Energy peak year 2010 - \r\n",
    "Singles:I like it Enrique Iglesias, OMG Usher\r\n",
    "Albums:\r\n",
    "Katy Perry: Teenage Dream Album | Lady Gaga: The Fame Monster (Bad Romance) | Kesha: Animal Album (Tik Tok)\r\n",
    "Valence 2010 (.57 right in the middle of the range)\r\n",
    "Danceability 2010 (.64 also right in the middle of the range)\r\n",
    "Tempo: 117 on the very low end\r\n",
    "Loudness: also peaked in 2010\r\n",
    "\r\n",
    "Energy Definition: Energy is a measure from 0.0 to 1.0 and represents a perceptual measure of intensity and activity. Typically, energetic tracks feel fast, loud, and noisy. For example, death metal has high energy, while a Bach prelude scores low on the scale. Perceptual features contributing to this attribute include dynamic range, perceived loudness, timbre, onset rate, and general entropy"
   ]
  },
  {
   "cell_type": "markdown",
   "id": "5ca90130-6794-4ea0-8485-d8a9f3aa9757",
   "metadata": {},
   "source": [
    "#### tempo"
   ]
  },
  {
   "cell_type": "code",
   "execution_count": null,
   "id": "bae78ae5-c415-498b-a831-9760d9e180df",
   "metadata": {},
   "outputs": [],
   "source": []
  },
  {
   "cell_type": "markdown",
   "id": "213bcae0-0464-4c78-b705-e9aadad7df85",
   "metadata": {},
   "source": [
    "#### loudness"
   ]
  },
  {
   "cell_type": "code",
   "execution_count": null,
   "id": "ce64d130-9ae3-4381-912b-997c76ad5c56",
   "metadata": {},
   "outputs": [],
   "source": []
  },
  {
   "cell_type": "markdown",
   "id": "2a5d3be3-411a-40a8-ba38-5a2b21419574",
   "metadata": {},
   "source": [
    "## Valence"
   ]
  },
  {
   "cell_type": "code",
   "execution_count": null,
   "id": "72967cbf-5ae1-48c7-8677-7e77b5e1a2a8",
   "metadata": {},
   "outputs": [],
   "source": [
    "valence_all_songs_df = all_songs_df.iloc[[n for n in range(0,4499)],[0,4,13]]"
   ]
  },
  {
   "cell_type": "code",
   "execution_count": null,
   "id": "c5f74439-d46b-4906-a35e-cd360864ed17",
   "metadata": {},
   "outputs": [],
   "source": [
    "valence_by_year_df = (pd.DataFrame(valence_all_songs_df.groupby([\"year\"]).mean(numeric_only=True)).reset_index())\n",
    "#valence_by_year_df.set_index(\"year\")\n",
    "valence_by_year_df.head()"
   ]
  },
  {
   "cell_type": "code",
   "execution_count": null,
   "id": "5198014a-dd6d-440e-a86e-81eb3ab00a03",
   "metadata": {},
   "outputs": [],
   "source": [
    "# Set x axis and tick locations\n",
    "x_axis = valence_by_year_df[\"year\"].to_list()\n",
    "tick_locations = [value for value in x_axis]"
   ]
  },
  {
   "cell_type": "code",
   "execution_count": null,
   "id": "3839c56d-d9c2-4804-96cd-5f94d5cc9ea1",
   "metadata": {},
   "outputs": [],
   "source": [
    "plt.figure(figsize=(30,10))\n",
    "plt.scatter(x_axis, valence_by_year_df[\"valence\"], color='r')\n",
    "plt.xticks(tick_locations, valence_by_year_df[\"year\"], rotation=\"vertical\")\n",
    "\n",
    "plt.show()"
   ]
  },
  {
   "cell_type": "markdown",
   "id": "1efe21a9-7f38-4dce-9690-e806ae5ac124",
   "metadata": {},
   "source": [
    "VALENCE ANALYSIS\r\n",
    "Since 1980 Valence, which describes the musical positiveness conveyed by a track has steadily declined over time with the highest peak in 1985 (Energy and Tempo were slightly above the average rate in 85), reaching its lowest point in 2018 followed by a slight increase over the last 6 years, but still within the general decades over time decline. \r\n",
    "2018 events: Politics: Trumps 2nd year in office, Brett Kavanaugh SC battle, Democrats won the House back, John McCain, Barbara Bush and George HW Bush all passed away, Climate: most destructive year of Wildfires in California, major UN report on CLimate Change/heating of the planet Culture: #MeToo movement went global, major data mining Facebook scandal, mass shootings in FLorida, Texas and SoCal, Pittsburgh synagogue \r\n",
    "https://www.history.com/topics/21st-century/2018-events"
   ]
  },
  {
   "cell_type": "markdown",
   "id": "8200ff8c-37fa-41e9-a8c3-42e4aa77665c",
   "metadata": {},
   "source": [
    "## Duration"
   ]
  },
  {
   "cell_type": "code",
   "execution_count": null,
   "id": "8c04202e-a5eb-44b8-8037-87561146860f",
   "metadata": {},
   "outputs": [],
   "source": []
  },
  {
   "cell_type": "markdown",
   "id": "6309dfc4-27e8-4139-9fc8-359f79aab4c0",
   "metadata": {},
   "source": [
    "## key"
   ]
  },
  {
   "cell_type": "code",
   "execution_count": null,
   "id": "e6c84dbd-d7c9-4c6d-87f9-66035fb74f98",
   "metadata": {},
   "outputs": [],
   "source": []
  },
  {
   "cell_type": "markdown",
   "id": "6fbfd40a-16cb-4b19-b5c4-3ce252414361",
   "metadata": {},
   "source": [
    "## Time Signature"
   ]
  },
  {
   "cell_type": "code",
   "execution_count": null,
   "id": "96ec384d-3fee-47aa-82fe-ec7469bbcecc",
   "metadata": {},
   "outputs": [],
   "source": []
  },
  {
   "cell_type": "markdown",
   "id": "375293c1-ad9b-40bb-8467-7241914afcc7",
   "metadata": {},
   "source": [
    "## time signature"
   ]
  },
  {
   "cell_type": "code",
   "execution_count": null,
   "id": "b55f66a3-f3b9-4968-89c8-eb2cca0efd5e",
   "metadata": {},
   "outputs": [],
   "source": []
  },
  {
   "cell_type": "markdown",
   "id": "231e416c-a178-4e20-a774-2f912d21c574",
   "metadata": {},
   "source": [
    "## Explicitness"
   ]
  },
  {
   "cell_type": "code",
   "execution_count": null,
   "id": "e2b05308-ed94-474e-946e-a73b1de00edb",
   "metadata": {},
   "outputs": [],
   "source": []
  }
 ],
 "metadata": {
  "kernelspec": {
   "display_name": "Python 3 (ipykernel)",
   "language": "python",
   "name": "python3"
  },
  "language_info": {
   "codemirror_mode": {
    "name": "ipython",
    "version": 3
   },
   "file_extension": ".py",
   "mimetype": "text/x-python",
   "name": "python",
   "nbconvert_exporter": "python",
   "pygments_lexer": "ipython3",
   "version": "3.12.4"
  }
 },
 "nbformat": 4,
 "nbformat_minor": 5
}
