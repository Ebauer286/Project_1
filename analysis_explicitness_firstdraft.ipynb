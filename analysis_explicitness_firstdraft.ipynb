{
 "cells": [
  {
   "cell_type": "code",
   "execution_count": 99,
   "id": "1ee59687-5e6a-40a8-b677-b5e5c72fb424",
   "metadata": {},
   "outputs": [],
   "source": [
    "import pandas as pd\n",
    "import matplotlib.pyplot as plt"
   ]
  },
  {
   "cell_type": "code",
   "execution_count": 100,
   "id": "776f1938-3ede-4592-902f-86b1baa1a05d",
   "metadata": {},
   "outputs": [],
   "source": [
    "df = pd.read_csv(r\"C:\\Users\\kevin\\bootcamp\\Project_1\\resources\\master_data_test.csv\")\n",
    "df = df.iloc[:,[1,5,11]]\n"
   ]
  },
  {
   "cell_type": "code",
   "execution_count": 101,
   "id": "4d82e5be-446d-42b5-8d4a-939ff8798d22",
   "metadata": {},
   "outputs": [],
   "source": [
    "bins = [0,1990,2000,2010,2020,2030]\n",
    "\n",
    "bin_names = [\"1980-\", \"1990-\",\"2000-\", \"2010-\",\"2020-\"]"
   ]
  },
  {
   "cell_type": "code",
   "execution_count": 102,
   "id": "6850e0a6-9a7b-4bf0-a3b5-36dea8add3c3",
   "metadata": {},
   "outputs": [],
   "source": [
    "df[\"decade\"] = pd.cut(df[\"year\"],\n",
    "                      bins,\n",
    "                      labels=bin_names,\n",
    "                      include_lowest=True)"
   ]
  },
  {
   "cell_type": "code",
   "execution_count": 103,
   "id": "35d3a200-97d6-40d7-96ea-bfe06e7cb870",
   "metadata": {},
   "outputs": [],
   "source": [
    "df_2020 = df[(df[\"decade\"]==\"2020-\")]\n",
    "df_2010 = df[(df[\"decade\"]==\"2010-\")]\n",
    "df_2000 = df[(df[\"decade\"]==\"2000-\")]"
   ]
  },
  {
   "cell_type": "code",
   "execution_count": 104,
   "id": "7879ebe1-7532-4b91-ad5a-79803e3eb80b",
   "metadata": {},
   "outputs": [],
   "source": [
    "#getting numbers for ratio in 2020-\n",
    "explicit_false_2020_count = len(df_2020[(df_2020[\"explicit\"]==False)][\"explicit\"].to_list())\n",
    "explicit_true_2020_count = len(df_2020[(df_2020[\"explicit\"]==True)][\"explicit\"].to_list())\n",
    "\n",
    "explicit_percentage_2020 = (explicit_true_2020_count / (explicit_false_2020_count+explicit_true_2020_count))*100\n",
    "not_explicit_percentage_2020 = (explicit_false_2020_count / (explicit_false_2020_count+explicit_true_2020_count))*100\n",
    "\n",
    "#2020- pie chart\n",
    "labels = [\"Explicit\", \"Not Explicit\"]\n",
    "sizes = [explicit_percentage_2020,not_explicit_percentage_2020]\n",
    "colors = [\"red\", \"green\"]\n",
    "\n",
    "plt.pie(sizes,labels=labels,colors=colors,autopct=\"%1.1f%%\")\n",
    "plt.title(\"Ratio of Explicitness in 2020-\")\n",
    "plt.show()"
   ]
  },
  {
   "cell_type": "code",
   "execution_count": 106,
   "id": "6ecdf9c0-53cb-4e93-ad6e-491d60e58e5d",
   "metadata": {},
   "outputs": [],
   "source": [
    "#getting numbers for ratio in 2010-2020\n",
    "explicit_false_2010_count = len(df_2010[(df_2010[\"explicit\"]==False)][\"explicit\"].to_list())\n",
    "explicit_true_2010_count = len(df_2010[(df_2010[\"explicit\"]==True)][\"explicit\"].to_list())\n",
    "\n",
    "explicit_percentage_2010 = (explicit_true_2010_count / (explicit_false_2010_count+explicit_true_2010_count))*100\n",
    "not_explicit_percentage_2010 = (explicit_false_2010_count / (explicit_false_2010_count+explicit_true_2010_count))*100\n",
    "\n",
    "#2010-2020 pie chart\n",
    "labels = [\"Explicit\", \"Not Explicit\"]\n",
    "sizes = [explicit_percentage_2010,not_explicit_percentage_2010]\n",
    "colors = [\"red\", \"green\"]\n",
    "\n",
    "plt.pie(sizes,labels=labels,colors=colors,autopct=\"%1.1f%%\")\n",
    "plt.title(\"Ratio of Explicitness in 2010-2020\")\n",
    "plt.show()"
   ]
  },
  {
   "cell_type": "code",
   "execution_count": 108,
   "id": "4704feea-2e2e-4d8a-8feb-273359065897",
   "metadata": {},
   "outputs": [],
   "source": [
    "#getting numbers for ratio in 2000-2010\n",
    "explicit_false_2000_count = len(df_2000[(df_2000[\"explicit\"]==False)][\"explicit\"].to_list())\n",
    "explicit_true_2000_count = len(df_2000[(df_2000[\"explicit\"]==True)][\"explicit\"].to_list())\n",
    "\n",
    "explicit_percentage_2000 = (explicit_true_2000_count / (explicit_false_2000_count+explicit_true_2000_count))*100\n",
    "not_explicit_percentage_2000 = (explicit_false_2000_count / (explicit_false_2000_count+explicit_true_2000_count))*100\n",
    "\n",
    "#2000-2010 pie chart\n",
    "labels = [\"Explicit\", \"Not Explicit\"]\n",
    "sizes = [explicit_percentage_2000,not_explicit_percentage_2000]\n",
    "colors = [\"red\", \"green\"]\n",
    "\n",
    "plt.pie(sizes,labels=labels,colors=colors,autopct=\"%1.1f%%\")\n",
    "plt.title(\"Ratio of Explicitness in 2010-2020\")\n",
    "plt.show()"
   ]
  }
 ],
 "metadata": {
  "kernelspec": {
   "display_name": "Python 3 (ipykernel)",
   "language": "python",
   "name": "python3"
  },
  "language_info": {
   "codemirror_mode": {
    "name": "ipython",
    "version": 3
   },
   "file_extension": ".py",
   "mimetype": "text/x-python",
   "name": "python",
   "nbconvert_exporter": "python",
   "pygments_lexer": "ipython3",
   "version": "3.12.4"
  }
 },
 "nbformat": 4,
 "nbformat_minor": 5
}
