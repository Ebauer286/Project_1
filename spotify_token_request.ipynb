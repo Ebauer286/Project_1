{
 "cells": [
  {
   "cell_type": "code",
   "execution_count": 10,
   "id": "8007d978-7e62-4a0e-81e0-fcd9f99e2ba0",
   "metadata": {},
   "outputs": [],
   "source": [
    "import requests\n",
    "import json\n",
    "from spotify_credentials import client_id, client_secret\n",
    "from pprint import pprint\n"
   ]
  },
  {
   "cell_type": "code",
   "execution_count": 11,
   "id": "735ac3c5-d262-4755-9f95-0de566b30f6f",
   "metadata": {},
   "outputs": [],
   "source": [
    "url = \"https://accounts.spotify.com/api/token\"\n",
    "header = {\"Content-Type\": \"application/x-www-form-urlencoded\"}\n",
    "data = {\"grant_type\":\"client_credentials\",\n",
    "        \"client_id\" : client_id,\n",
    "        \"client_secret\" : client_secret}\n",
    "\n",
    "r = requests.post(url, data=data, headers=header).json()"
   ]
  },
  {
   "cell_type": "code",
   "execution_count": null,
   "id": "90c3203a-019e-4c24-944b-61fa229e95ca",
   "metadata": {},
   "outputs": [],
   "source": []
  },
  {
   "cell_type": "code",
   "execution_count": null,
   "id": "86add71f-0593-42c9-adbc-9f0a5059ff6c",
   "metadata": {},
   "outputs": [],
   "source": []
  }
 ],
 "metadata": {
  "kernelspec": {
   "display_name": "Python 3 (ipykernel)",
   "language": "python",
   "name": "python3"
  },
  "language_info": {
   "codemirror_mode": {
    "name": "ipython",
    "version": 3
   },
   "file_extension": ".py",
   "mimetype": "text/x-python",
   "name": "python",
   "nbconvert_exporter": "python",
   "pygments_lexer": "ipython3",
   "version": "3.12.4"
  }
 },
 "nbformat": 4,
 "nbformat_minor": 5
}
