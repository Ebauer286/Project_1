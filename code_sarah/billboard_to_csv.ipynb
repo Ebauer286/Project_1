{
 "cells": [
  {
   "cell_type": "code",
   "execution_count": null,
   "id": "efca22b9-88d5-4368-95e6-377c07d05ce0",
   "metadata": {},
   "outputs": [],
   "source": [
    "# importing all needed libraries\n",
    "import datetime\n",
    "import requests\n",
    "import json\n",
    "import pandas as pd"
   ]
  },
  {
   "cell_type": "code",
   "execution_count": 11,
   "id": "590b39b1-187b-4f61-8b90-61e4b5b99ef1",
   "metadata": {},
   "outputs": [],
   "source": [
    "# creating a function to make weekly dates within a certain time frame (arguments are the start and end date)\n",
    "def get_weekly_dates(d_start, d_end):\n",
    "    week_dates = []\n",
    "    week_date = d_start\n",
    "    \n",
    "    while week_date <= d_end:\n",
    "        week_dates.append(week_date.isoformat())\n",
    "        week_date += datetime.timedelta(weeks=1)\n",
    "    return week_dates\n",
    "\n",
    "# edit here for different data range, start date should be on a saturday\n",
    "d_start = datetime.date(1980, 1, 5)\n",
    "d_end = datetime.date(2024, 10, 30)\n",
    "\n",
    "week_dates = get_weekly_dates(d_start, d_end)"
   ]
  },
  {
   "cell_type": "code",
   "execution_count": 12,
   "id": "d116de72-e3d4-4d45-bab7-e5127a573127",
   "metadata": {},
   "outputs": [],
   "source": [
    "# organizing week dates into a dictionary by year\n",
    "y_start = d_start.year\n",
    "y_end = d_end.year\n",
    "\n",
    "week_dictionary = {}\n",
    "\n",
    "for w in week_dates:\n",
    "    year_of_week = datetime.date.fromisoformat(w).year\n",
    "    if year_of_week not in week_dictionary:\n",
    "        week_dictionary[year_of_week] = [w]\n",
    "    else:\n",
    "        week_dictionary[year_of_week].append(w)"
   ]
  },
  {
   "cell_type": "code",
   "execution_count": 13,
   "id": "b46d26e9-8d1b-4da1-ac0f-04a2e49803f5",
   "metadata": {},
   "outputs": [],
   "source": [
    "# calling on billboard hot 100 api and exporting the data in csvs for each year\n",
    "# DO NOT RUN THIS BEFORE MAKING THE DATA RANGE SMALLER, API USE REQUIRED A PAID SUBSCRIPTION AND RUNNING TOO MANY CALLS PER DAY RESULTS IN ADDITIONAL FEES\n",
    "for year in week_dictionary:\n",
    "    year_df = pd.DataFrame()\n",
    "\n",
    "    for week in week_dictionary[year]:\n",
    "        try:\n",
    "            \n",
    "            bb_weekly_url = \"https://billboard-api2.p.rapidapi.com/hot-100\"\n",
    "            params = {\n",
    "                \"date\": week,\n",
    "                \"range\": \"1-100\"\n",
    "            }\n",
    "            headers = {\n",
    "                \"x-rapidapi-key\": \"65155348c9mshaa21262afddd264p14c37bjsn21ec97b632c2\",\n",
    "                \"x-rapidapi-host\": \"billboard-api2.p.rapidapi.com\"\n",
    "            }\n",
    "            \n",
    "            bb_weekly_response = requests.get(bb_weekly_url, headers=headers, params=params).json()\n",
    "            bb_weekly_df = pd.DataFrame(bb_weekly_response[\"content\"])\n",
    "            bb_weekly_df = bb_weekly_df.transpose()\n",
    "            bb_weekly_df[\"date\"] = week\n",
    "        \n",
    "            year_df = pd.concat([year_df, bb_weekly_df])\n",
    "\n",
    "        except:\n",
    "                print(f\"did not save chart from {week}\")\n",
    "    \n",
    "    year_df.to_csv(f'resources/billboard_hot_100_csvs/{year}_bb_hot_100.csv', index=False)"
   ]
  }
 ],
 "metadata": {
  "kernelspec": {
   "display_name": "Python 3 (ipykernel)",
   "language": "python",
   "name": "python3"
  },
  "language_info": {
   "codemirror_mode": {
    "name": "ipython",
    "version": 3
   },
   "file_extension": ".py",
   "mimetype": "text/x-python",
   "name": "python",
   "nbconvert_exporter": "python",
   "pygments_lexer": "ipython3",
   "version": "3.10.14"
  }
 },
 "nbformat": 4,
 "nbformat_minor": 5
}
