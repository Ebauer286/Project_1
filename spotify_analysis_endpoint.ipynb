{
 "cells": [
  {
   "cell_type": "code",
   "execution_count": 16,
   "id": "703f62dc-5c66-40e6-844c-5ec517c63fa5",
   "metadata": {},
   "outputs": [],
   "source": [
    "import requests\n",
    "import json\n",
    "import pandas\n",
    "from pprint import pprint\n",
    "from time import sleep\n",
    "\n",
    "from spotify_credentials import client_id, client_secret\n"
   ]
  },
  {
   "cell_type": "code",
   "execution_count": 5,
   "id": "75426164-17e9-4917-b97f-997185ba49bd",
   "metadata": {},
   "outputs": [],
   "source": [
    "#getting spotify access token\n",
    "url = \"https://accounts.spotify.com/api/token\"\n",
    "header = {\"Content-Type\": \"application/x-www-form-urlencoded\"}\n",
    "data = {\"grant_type\":\"client_credentials\",\n",
    "        \"client_id\" : client_id,\n",
    "        \"client_secret\" : client_secret}\n",
    "\n",
    "r = requests.post(url, data=data, headers=header).json()\n",
    "\n",
    "spotify_api_key = r['access_token']\n"
   ]
  },
  {
   "cell_type": "code",
   "execution_count": null,
   "id": "834ee448-a061-4c03-9aac-0dd84f4884ef",
   "metadata": {},
   "outputs": [],
   "source": [
    "csv_with_ids_path = \n",
    "song_id_df = pandas.DataFrame(f\"{csv_with_ids_path}\")\n",
    "id_list = song_id_df[\"\"].to_list()"
   ]
  },
  {
   "cell_type": "code",
   "execution_count": null,
   "id": "bcd89bf4-4cde-4738-a445-9dd16a531a4f",
   "metadata": {},
   "outputs": [],
   "source": [
    "spotify_analysis_endpoint = \"https://api.spotify.com/v1/audio-analysis/\"\n",
    "spotify_headers = {'Authorization': 'Bearer {}'.format(spotify_api_key)}\n",
    "\n",
    "songs_data_list = []\n",
    "\n",
    "for id in id_list:\n",
    "    \n",
    "    song_details = {}\n",
    "    \n",
    "    request_url = spotify_analysis_endpoint + str(id)\n",
    "\n",
    "    try:\n",
    "        spotify_response = requests.get(request_url, headers = spotify_headers).json()\n",
    "        song_details[\"id\"] = str(id)\n",
    "        song_details[\"duration\"] = spotify_response[\"track\"][\"duration\"]\n",
    "        song_details[\"loudness\"] = spotify_response[\"track\"][\"loudness\"]\n",
    "        song_details[\"tempo\"] = spotify_response[\"track\"][\"tempo\"]\n",
    "        song_details[\"time_signiture\"] = spotify_response[\"track\"][\"time_signiture\"]\n",
    "        song_details[\"key\"] = spotify_response[\"track\"][\"key\"]\n",
    "        song_data_list.append(song_details)\n",
    "        #sleep(0.25)\n",
    "    except:\n",
    "        print(f\"error on id: {id}\")\n",
    "        pass\n",
    "        \n",
    "\n"
   ]
  },
  {
   "cell_type": "code",
   "execution_count": 13,
   "id": "d7d5a9e0-0dc6-4697-98b6-e78039cc749f",
   "metadata": {},
   "outputs": [
    {
     "ename": "KeyError",
     "evalue": "'time_signiture'",
     "output_type": "error",
     "traceback": [
      "\u001b[1;31m---------------------------------------------------------------------------\u001b[0m",
      "\u001b[1;31mKeyError\u001b[0m                                  Traceback (most recent call last)",
      "Cell \u001b[1;32mIn[13], line 18\u001b[0m\n\u001b[0;32m     16\u001b[0m song_dict[\u001b[38;5;124m\"\u001b[39m\u001b[38;5;124mduration\u001b[39m\u001b[38;5;124m\"\u001b[39m] \u001b[38;5;241m=\u001b[39m spotify_response[\u001b[38;5;124m\"\u001b[39m\u001b[38;5;124mtrack\u001b[39m\u001b[38;5;124m\"\u001b[39m][\u001b[38;5;124m\"\u001b[39m\u001b[38;5;124mduration\u001b[39m\u001b[38;5;124m\"\u001b[39m]\n\u001b[0;32m     17\u001b[0m song_dict[\u001b[38;5;124m\"\u001b[39m\u001b[38;5;124mtempo\u001b[39m\u001b[38;5;124m\"\u001b[39m] \u001b[38;5;241m=\u001b[39m spotify_response[\u001b[38;5;124m\"\u001b[39m\u001b[38;5;124mtrack\u001b[39m\u001b[38;5;124m\"\u001b[39m][\u001b[38;5;124m\"\u001b[39m\u001b[38;5;124mtempo\u001b[39m\u001b[38;5;124m\"\u001b[39m]\n\u001b[1;32m---> 18\u001b[0m song_dict[\u001b[38;5;124m\"\u001b[39m\u001b[38;5;124mtime_signiture\u001b[39m\u001b[38;5;124m\"\u001b[39m] \u001b[38;5;241m=\u001b[39m spotify_response[\u001b[38;5;124m\"\u001b[39m\u001b[38;5;124mtrack\u001b[39m\u001b[38;5;124m\"\u001b[39m][\u001b[38;5;124m\"\u001b[39m\u001b[38;5;124mtime_signiture\u001b[39m\u001b[38;5;124m\"\u001b[39m]\n\u001b[0;32m     19\u001b[0m song_dict[\u001b[38;5;124m\"\u001b[39m\u001b[38;5;124mkey\u001b[39m\u001b[38;5;124m\"\u001b[39m] \u001b[38;5;241m=\u001b[39m spotify_response[\u001b[38;5;124m\"\u001b[39m\u001b[38;5;124mtrack\u001b[39m\u001b[38;5;124m\"\u001b[39m][\u001b[38;5;124m\"\u001b[39m\u001b[38;5;124mkey\u001b[39m\u001b[38;5;124m\"\u001b[39m]\n\u001b[0;32m     21\u001b[0m \u001b[38;5;28mprint\u001b[39m(song_dict)\n",
      "\u001b[1;31mKeyError\u001b[0m: 'time_signiture'"
     ]
    }
   ],
   "source": [
    "test_song_id = test_song_dict[\"Stick Season\"]\n",
    "\n",
    "\n",
    "spotify_analysis_endpoint = \"https://api.spotify.com/v1/audio-analysis/\"\n",
    "\n",
    "spotify_headers = {'Authorization': 'Bearer {}'.format(spotify_api_key)}\n",
    "\n",
    "request_url = spotify_analysis_endpoint + test_song_id\n",
    "\n",
    "\n",
    "spotify_response = requests.get(request_url, headers = spotify_headers).json()\n",
    "\n"
   ]
  },
  {
   "cell_type": "code",
   "execution_count": null,
   "id": "e9e7d54c-1518-471b-ae90-25c90ff76f57",
   "metadata": {},
   "outputs": [],
   "source": [
    "test_song_dict = {'Lose Control': '0UaMYEvWZi0ZqiDOoHU3YI',\n",
    " 'Stick Season': '0mflMxspEfB0VbI1kyLiAv',\n",
    " 'Beautiful Things': '3xkHsmpQCBMytMJNiDf3Ii',\n",
    " 'Houdini': '6D8y7Bck8h11byRY88Pt2z',\n",
    " 'I Remember Everything': '4KULAymBBJcPRpk1yO4dOG',\n",
    " 'Saturn': '1bjeWoagtHmUKputLVyDxQ',\n",
    " 'Feather': '2Zo1PcszsT9WQ0ANntJbID',\n",
    " 'Austin': '2WQAknZHrJAEQOFXe0F44P',\n",
    " 'Lovin On Me': '4xhsWYTOGcal8zt0J161CU',\n",
    " 'Too Sweet': '76JKIsdKrAfWUMjaA0u7v5',\n",
    " 'Like That': '4EivmOT13NMpNSfTKn9p4s',\n",
    " \"Wind Up Missin' You\": '3EO58D1YpHnTvBy68gK8HE',\n",
    " 'Slow It Down': '51eSHglvG1RJXtL3qI5trr',\n",
    " 'Good Luck, Babe!': '0WbMK4wrZ1wFSty9F7FCgu',\n",
    " 'Greedy': '3rUGC1vUpkDG9CZFHMur1t',\n",
    " 'A Bar Song (Tipsy)': '2FQrifJ1N335Ljm3TjTVVf',\n",
    " 'Espresso': '2qSkIjg1o9h3YT9RAgYN75',\n",
    " 'Gata Only': '6XjDF6nds4DE2BBbagZol6',\n",
    " 'Agora Hills': '5PyDJG7SQRgWXefgexqIge',\n",
    " 'I Can Do It With A Broken Heart': '4q5YezDOIPcoLr8R81x9qy',\n",
    " 'Wild Ones': '1NpW5kyvO4XrNJ3rnfcNy3',\n",
    " 'Yeah Glo!': '5A8xI7PN4WDe9e61xEdt94',\n",
    " 'Million Dollar Baby': '5AJ9hqTS2wcFQCELCFRO7A',\n",
    " 'Wanna Be': '7mOC6phfrfz3jfigg1aGsE',\n",
    " 'Miles On It': '4pkb8SbRGeHAvdb87v9rpf',\n",
    " \"We Can't Be Friends (Wait For Your Love)\": '51ZQ1vr10ffzbwIjDCwqm4',\n",
    " 'Not Like Us': '6AI3ezQ4o3HUoP6Dhudph3',\n",
    " 'Cowgirls': '7fveJ3pk1eSfxBdVkzdXZ0',\n",
    " 'I Had Some Help': '5IZXB5IKAD2qlvTPJYDCFB',\n",
    " 'FE!N': '42VsgItocQwOQC3XWZ8JNA',\n",
    " 'Belong Together': '5uQ7de4EWjb3rkcFxyEOpu',\n",
    " 'Stargazing': '3Vr3zh0r7ALn8VLqCiRR10',\n",
    " 'Scared To Start': '3Pbp7cUCx4d3OAkZSCoNvn',\n",
    " \"Think I'm In Love With You\": '3Gn1zuHNLtGuGEOXwq0k7e',\n",
    " 'Made For Me': '0WIv5qV41y6YjjB9V1biuC',\n",
    " \"Ain't No Love In Oklahoma\": '6GG4yyk3UATdBfTHVgI8PB',\n",
    " 'Wildflower': '3QaPy1KgI7nu9FJEQUgn6h'}"
   ]
  }
 ],
 "metadata": {
  "kernelspec": {
   "display_name": "Python 3 (ipykernel)",
   "language": "python",
   "name": "python3"
  },
  "language_info": {
   "codemirror_mode": {
    "name": "ipython",
    "version": 3
   },
   "file_extension": ".py",
   "mimetype": "text/x-python",
   "name": "python",
   "nbconvert_exporter": "python",
   "pygments_lexer": "ipython3",
   "version": "3.12.4"
  }
 },
 "nbformat": 4,
 "nbformat_minor": 5
}
