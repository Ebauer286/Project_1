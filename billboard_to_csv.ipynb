{
 "cells": [
  {
   "cell_type": "code",
   "execution_count": 1,
   "id": "590b39b1-187b-4f61-8b90-61e4b5b99ef1",
   "metadata": {},
   "outputs": [
    {
     "data": {
      "text/plain": [
       "['2024-10-01', '2024-10-08', '2024-10-15', '2024-10-22', '2024-10-29']"
      ]
     },
     "execution_count": 1,
     "metadata": {},
     "output_type": "execute_result"
    }
   ],
   "source": [
    "# Getting week dates from a starting and ending date \n",
    "import datetime\n",
    "\n",
    "def get_weekly_dates(d_start, d_end):\n",
    "    week_dates = []\n",
    "    week_date = d_start\n",
    "    \n",
    "    while week_date <= d_end:\n",
    "        week_dates.append(week_date.isoformat())\n",
    "        week_date += datetime.timedelta(weeks=1)\n",
    "    return week_dates\n",
    "\n",
    "d_start = datetime.date(2024, 10, 1)\n",
    "d_end = datetime.date(2024, 10, 29)\n",
    "\n",
    "week_dates = get_weekly_dates(d_start, d_end)\n",
    "week_dates"
   ]
  },
  {
   "cell_type": "code",
   "execution_count": 8,
   "id": "d116de72-e3d4-4d45-bab7-e5127a573127",
   "metadata": {},
   "outputs": [],
   "source": [
    "import requests\n",
    "import json\n",
    "import pandas as pd\n",
    "\n",
    "for date in week_dates:\n",
    "    bb_weekly_url = \"https://billboard-api2.p.rapidapi.com/hot-100\"\n",
    "    params = {\n",
    "        \"date\": date,\n",
    "        \"range\": \"1-100\"\n",
    "    }\n",
    "    headers = {\n",
    "        \"x-rapidapi-key\": \"65155348c9mshaa21262afddd264p14c37bjsn21ec97b632c2\",\n",
    "        \"x-rapidapi-host\": \"billboard-api2.p.rapidapi.com\"\n",
    "    }\n",
    "    \n",
    "    bb_weekly_response = requests.get(bb_weekly_url, headers=headers, params=params).json()\n",
    "    bb_weekly_df = pd.DataFrame(bb_weekly_response[\"content\"])\n",
    "    bb_weekly_df = bb_weekly_df.transpose()\n",
    "    bb_weekly_df.to_csv(f'{date}_bb_hot100.csv', index=False)"
   ]
  },
  {
   "cell_type": "code",
   "execution_count": null,
   "id": "efca22b9-88d5-4368-95e6-377c07d05ce0",
   "metadata": {},
   "outputs": [],
   "source": []
  }
 ],
 "metadata": {
  "kernelspec": {
   "display_name": "Python 3 (ipykernel)",
   "language": "python",
   "name": "python3"
  },
  "language_info": {
   "codemirror_mode": {
    "name": "ipython",
    "version": 3
   },
   "file_extension": ".py",
   "mimetype": "text/x-python",
   "name": "python",
   "nbconvert_exporter": "python",
   "pygments_lexer": "ipython3",
   "version": "3.10.14"
  }
 },
 "nbformat": 4,
 "nbformat_minor": 5
}
