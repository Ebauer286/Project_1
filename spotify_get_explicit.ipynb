{
 "cells": [
  {
   "cell_type": "code",
   "execution_count": 1,
   "id": "3b3d5c1c-5140-42cf-ab9b-5afc493bb7ff",
   "metadata": {},
   "outputs": [],
   "source": [
    "import requests\n",
    "import json\n",
    "import pandas as pd\n",
    "from pprint import pprint\n",
    "from time import sleep\n",
    "\n",
    "from spotify_credentials import client_id, client_secret"
   ]
  },
  {
   "cell_type": "code",
   "execution_count": null,
   "id": "9f50566d-7aff-4dd9-9345-ddaec6b9b380",
   "metadata": {},
   "outputs": [],
   "source": [
    "#getting spotify access token\n",
    "url = \"https://accounts.spotify.com/api/token\"\n",
    "header = {\"Content-Type\": \"application/x-www-form-urlencoded\"}\n",
    "data = {\"grant_type\":\"client_credentials\",\n",
    "        \"client_id\" : client_id,\n",
    "        \"client_secret\" : client_secret}\n",
    "\n",
    "r = requests.post(url, data=data, headers=header).json()\n",
    "\n",
    "spotify_api_key = r['access_token']\n",
    "\n"
   ]
  },
  {
   "cell_type": "code",
   "execution_count": 2,
   "id": "c469c516-19a8-4fde-be57-20da014aad57",
   "metadata": {},
   "outputs": [],
   "source": [
    "songdf = pd.read_csv(r\"\")\n",
    "songdf[\"explicit\"] = True\n",
    "\n",
    "#songdf = songdf.iloc[:,[5,1,2,3,4,6,7,8,9,10]]\n",
    "songdf = songdf.head(1)"
   ]
  },
  {
   "cell_type": "code",
   "execution_count": null,
   "id": "022ccf3e-246e-43a5-9b82-5f57f09e21a9",
   "metadata": {},
   "outputs": [],
   "source": [
    "spotify_analysis_endpoint = \"https://api.spotify.com/v1/audio-analysis/\"\n",
    "spotify_headers = {'Authorization': 'Bearer {}'.format(spotify_api_key)}\n",
    "\n",
    "for index, row in songdf.iterrows():\n",
    "\n",
    "    song_id = str(songdf.iat[index,0])\n",
    "\n",
    "    request_url = spotify_analysis_endpoint + song_id\n",
    "\n",
    "    try:\n",
    "        spotify_response = requests.get(request_url, headers = spotify_headers).json()\n",
    "        songdf.iat[index,5] = spotify_response[\"track\"][\"duration\"]\n",
    "        songdf.iat[index,6] = spotify_response[\"track\"][\"loudness\"]\n",
    "        songdf.iat[index,7] = spotify_response[\"track\"][\"tempo\"]\n",
    "        songdf.iat[index,8] = spotify_response[\"track\"][\"time_signature\"]\n",
    "        songdf.iat[index,9] = spotify_response[\"track\"][\"key\"]\n",
    "        sleep(0.5)\n",
    "        \n",
    "    except:\n",
    "        print(f\"Failure on ID: {song_id}\")\n",
    "        print(spotify_response)\n",
    "        pass\n",
    "        \n",
    "\n",
    "\n",
    "songdf.head()"
   ]
  }
 ],
 "metadata": {
  "kernelspec": {
   "display_name": "Python 3 (ipykernel)",
   "language": "python",
   "name": "python3"
  },
  "language_info": {
   "codemirror_mode": {
    "name": "ipython",
    "version": 3
   },
   "file_extension": ".py",
   "mimetype": "text/x-python",
   "name": "python",
   "nbconvert_exporter": "python",
   "pygments_lexer": "ipython3",
   "version": "3.12.4"
  }
 },
 "nbformat": 4,
 "nbformat_minor": 5
}
