{
 "cells": [
  {
   "cell_type": "code",
   "execution_count": null,
   "id": "3b3d5c1c-5140-42cf-ab9b-5afc493bb7ff",
   "metadata": {},
   "outputs": [],
   "source": [
    "import requests\n",
    "import json\n",
    "import pandas as pd\n",
    "from pprint import pprint\n",
    "from time import sleep\n",
    "import os\n",
    "\n",
    "from spotify_credentials import client_id, client_secret"
   ]
  },
  {
   "cell_type": "code",
   "execution_count": null,
   "id": "9f50566d-7aff-4dd9-9345-ddaec6b9b380",
   "metadata": {},
   "outputs": [],
   "source": [
    "#getting spotify access token\n",
    "url = \"https://accounts.spotify.com/api/token\"\n",
    "header = {\"Content-Type\": \"application/x-www-form-urlencoded\"}\n",
    "data = {\"grant_type\":\"client_credentials\",\n",
    "        \"client_id\" : client_id,\n",
    "        \"client_secret\" : client_secret}\n",
    "\n",
    "r = requests.post(url, data=data, headers=header).json()\n",
    "\n",
    "spotify_api_key = r['access_token']\n",
    "\n"
   ]
  },
  {
   "cell_type": "code",
   "execution_count": null,
   "id": "c469c516-19a8-4fde-be57-20da014aad57",
   "metadata": {},
   "outputs": [],
   "source": [
    "songdf = pd.read_csv(r\"C:\\Users\\kevin\\bootcamp\\Project_1\\resources\\master_data_final.csv\")\n",
    "songdf[\"explicit\"] = False\n",
    "\n",
    "songdf = songdf.iloc[:,[6,2,3,4,5,7,8,9,10,11,12,13,14,15]]\n",
    "\n",
    "iter_df = songdf.iloc[:,[0,13]]"
   ]
  },
  {
   "cell_type": "code",
   "execution_count": null,
   "id": "022ccf3e-246e-43a5-9b82-5f57f09e21a9",
   "metadata": {},
   "outputs": [],
   "source": [
    "\n",
    "spotify_endpoint = \"https://api.spotify.com/v1/tracks/\"\n",
    "spotify_headers = {'Authorization': 'Bearer {}'.format(spotify_api_key)}\n",
    "\n",
    "for index, row in iter_df.iterrows():\n",
    "\n",
    "    song_id = str(iter_df.iat[index,0])\n",
    "\n",
    "    try:\n",
    "        spotify_response = requests.get((spotify_endpoint + song_id), headers = spotify_headers).json()\n",
    "        songdf.iat[index,13] = spotify_response[\"explicit\"]\n",
    "        sleep(0.25)\n",
    "        \n",
    "    except:\n",
    "        if spotify_response == {'error': {'status': 429}}:\n",
    "            print(f\"{spotify_response} on song ID = {song_id}\")\n",
    "        else:\n",
    "            print(f\"Failure on ID: {song_id}\")\n",
    "        pass\n",
    "\n",
    "        \n",
    "\n",
    "\n",
    "\n",
    "\n",
    "path = r\"C:\\Users\\kevin\\bootcamp\\Project_1\\resources\"\n",
    "songdf.to_csv(os.path.join(path,f\"master_data_final_reference.csv\"),index=False) #https://stackoverflow.com/questions/22872952/set-file-path-for-to-csv-in-pandas\n",
    "\n",
    "songdf.head()"
   ]
  },
  {
   "cell_type": "code",
   "execution_count": null,
   "id": "9325da37-4ab7-4871-9e15-bc8cc6b4d576",
   "metadata": {},
   "outputs": [],
   "source": []
  }
 ],
 "metadata": {
  "kernelspec": {
   "display_name": "Python 3 (ipykernel)",
   "language": "python",
   "name": "python3"
  },
  "language_info": {
   "codemirror_mode": {
    "name": "ipython",
    "version": 3
   },
   "file_extension": ".py",
   "mimetype": "text/x-python",
   "name": "python",
   "nbconvert_exporter": "python",
   "pygments_lexer": "ipython3",
   "version": "3.12.4"
  }
 },
 "nbformat": 4,
 "nbformat_minor": 5
}
